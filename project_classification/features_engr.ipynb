{
 "cells": [
  {
   "cell_type": "markdown",
   "metadata": {},
   "source": [
    "### Packages and dataset"
   ]
  },
  {
   "cell_type": "code",
   "execution_count": 14,
   "metadata": {},
   "outputs": [],
   "source": [
    "import pandas as pd\n",
    "import numpy as np\n",
    "import seaborn as sns\n",
    "import matplotlib.pyplot as plt\n",
    "from scipy.stats import skew,boxcox,yeojohnson\n",
    "#%conda install -c conda-forge bayesian-optimization\n",
    "from bayes_opt import BayesianOptimization\n",
    "from sklearn.preprocessing import LabelEncoder\n",
    "import category_encoders\n",
    "from category_encoders.target_encoder import TargetEncoder\n",
    "from sklearn.model_selection import train_test_split,cross_val_score,KFold,GridSearchCV,cross_validate\n",
    "from sklearn.preprocessing import StandardScaler\n",
    "import time\n",
    "from sklearn.metrics import roc_auc_score,roc_curve, auc,precision_score,recall_score, precision_recall_curve,plot_precision_recall_curve,accuracy_score,plot_confusion_matrix,confusion_matrix,classification_report\n",
    "from sklearn.ensemble import RandomForestClassifier,StackingClassifier\n",
    "from sklearn.linear_model import LogisticRegression\n",
    "import xgboost as xgb\n",
    "from sklearn.svm import SVC\n",
    "import matplotlib.pyplot as plt"
   ]
  },
  {
   "cell_type": "code",
   "execution_count": 15,
   "metadata": {},
   "outputs": [],
   "source": [
    "#Reading csv\n",
    "df = pd.read_csv(\"bank_marketing_weka_dataset.csv\")\n",
    "\n",
    "#Separate features\n",
    "X = df.drop(['y'], axis=1)\n",
    "\n",
    "#Target variable\n",
    "y = df['y']\n",
    "\n",
    "#Transform 'y' to binary\n",
    "y = y.map(dict(yes=1, no=0))\n",
    "\n",
    "#Continuos variables\n",
    "conti = X.select_dtypes(include=np.number)"
   ]
  },
  {
   "cell_type": "code",
   "execution_count": 16,
   "metadata": {},
   "outputs": [
    {
     "data": {
      "text/html": [
       "<div>\n",
       "<style scoped>\n",
       "    .dataframe tbody tr th:only-of-type {\n",
       "        vertical-align: middle;\n",
       "    }\n",
       "\n",
       "    .dataframe tbody tr th {\n",
       "        vertical-align: top;\n",
       "    }\n",
       "\n",
       "    .dataframe thead th {\n",
       "        text-align: right;\n",
       "    }\n",
       "</style>\n",
       "<table border=\"1\" class=\"dataframe\">\n",
       "  <thead>\n",
       "    <tr style=\"text-align: right;\">\n",
       "      <th></th>\n",
       "      <th>age</th>\n",
       "      <th>job</th>\n",
       "      <th>marital</th>\n",
       "      <th>education</th>\n",
       "      <th>default</th>\n",
       "      <th>balance</th>\n",
       "      <th>housing</th>\n",
       "      <th>loan</th>\n",
       "      <th>contact</th>\n",
       "      <th>day</th>\n",
       "      <th>month</th>\n",
       "      <th>duration</th>\n",
       "      <th>campaign</th>\n",
       "      <th>pdays</th>\n",
       "      <th>previous</th>\n",
       "      <th>poutcome</th>\n",
       "    </tr>\n",
       "  </thead>\n",
       "  <tbody>\n",
       "    <tr>\n",
       "      <th>0</th>\n",
       "      <td>30</td>\n",
       "      <td>unemployed</td>\n",
       "      <td>married</td>\n",
       "      <td>primary</td>\n",
       "      <td>no</td>\n",
       "      <td>1787</td>\n",
       "      <td>no</td>\n",
       "      <td>no</td>\n",
       "      <td>cellular</td>\n",
       "      <td>19</td>\n",
       "      <td>oct</td>\n",
       "      <td>79.0</td>\n",
       "      <td>1</td>\n",
       "      <td>-1.0</td>\n",
       "      <td>0</td>\n",
       "      <td>unknown</td>\n",
       "    </tr>\n",
       "    <tr>\n",
       "      <th>1</th>\n",
       "      <td>33</td>\n",
       "      <td>services</td>\n",
       "      <td>married</td>\n",
       "      <td>secondary</td>\n",
       "      <td>no</td>\n",
       "      <td>4789</td>\n",
       "      <td>yes</td>\n",
       "      <td>yes</td>\n",
       "      <td>cellular</td>\n",
       "      <td>11</td>\n",
       "      <td>may</td>\n",
       "      <td>220.0</td>\n",
       "      <td>1</td>\n",
       "      <td>339.0</td>\n",
       "      <td>4</td>\n",
       "      <td>failure</td>\n",
       "    </tr>\n",
       "    <tr>\n",
       "      <th>2</th>\n",
       "      <td>35</td>\n",
       "      <td>management</td>\n",
       "      <td>single</td>\n",
       "      <td>tertiary</td>\n",
       "      <td>no</td>\n",
       "      <td>1350</td>\n",
       "      <td>yes</td>\n",
       "      <td>no</td>\n",
       "      <td>cellular</td>\n",
       "      <td>16</td>\n",
       "      <td>apr</td>\n",
       "      <td>185.0</td>\n",
       "      <td>1</td>\n",
       "      <td>330.0</td>\n",
       "      <td>1</td>\n",
       "      <td>failure</td>\n",
       "    </tr>\n",
       "    <tr>\n",
       "      <th>3</th>\n",
       "      <td>30</td>\n",
       "      <td>management</td>\n",
       "      <td>married</td>\n",
       "      <td>tertiary</td>\n",
       "      <td>no</td>\n",
       "      <td>1476</td>\n",
       "      <td>yes</td>\n",
       "      <td>yes</td>\n",
       "      <td>unknown</td>\n",
       "      <td>3</td>\n",
       "      <td>jun</td>\n",
       "      <td>199.0</td>\n",
       "      <td>4</td>\n",
       "      <td>-1.0</td>\n",
       "      <td>0</td>\n",
       "      <td>unknown</td>\n",
       "    </tr>\n",
       "    <tr>\n",
       "      <th>4</th>\n",
       "      <td>59</td>\n",
       "      <td>blue-collar</td>\n",
       "      <td>married</td>\n",
       "      <td>secondary</td>\n",
       "      <td>no</td>\n",
       "      <td>0</td>\n",
       "      <td>yes</td>\n",
       "      <td>no</td>\n",
       "      <td>unknown</td>\n",
       "      <td>5</td>\n",
       "      <td>may</td>\n",
       "      <td>226.0</td>\n",
       "      <td>1</td>\n",
       "      <td>-1.0</td>\n",
       "      <td>0</td>\n",
       "      <td>unknown</td>\n",
       "    </tr>\n",
       "  </tbody>\n",
       "</table>\n",
       "</div>"
      ],
      "text/plain": [
       "   age          job  marital  education default  balance housing loan  \\\n",
       "0   30   unemployed  married    primary      no     1787      no   no   \n",
       "1   33     services  married  secondary      no     4789     yes  yes   \n",
       "2   35   management   single   tertiary      no     1350     yes   no   \n",
       "3   30   management  married   tertiary      no     1476     yes  yes   \n",
       "4   59  blue-collar  married  secondary      no        0     yes   no   \n",
       "\n",
       "    contact  day month  duration  campaign  pdays  previous poutcome  \n",
       "0  cellular   19   oct      79.0         1   -1.0         0  unknown  \n",
       "1  cellular   11   may     220.0         1  339.0         4  failure  \n",
       "2  cellular   16   apr     185.0         1  330.0         1  failure  \n",
       "3   unknown    3   jun     199.0         4   -1.0         0  unknown  \n",
       "4   unknown    5   may     226.0         1   -1.0         0  unknown  "
      ]
     },
     "execution_count": 16,
     "metadata": {},
     "output_type": "execute_result"
    }
   ],
   "source": [
    "#Features initial state\n",
    "X.head()"
   ]
  },
  {
   "cell_type": "markdown",
   "metadata": {},
   "source": [
    "## Target variable balance"
   ]
  },
  {
   "cell_type": "code",
   "execution_count": 17,
   "metadata": {},
   "outputs": [
    {
     "data": {
      "text/plain": [
       "0    4000\n",
       "1     521\n",
       "Name: y, dtype: int64"
      ]
     },
     "execution_count": 17,
     "metadata": {},
     "output_type": "execute_result"
    }
   ],
   "source": [
    "y.value_counts()"
   ]
  },
  {
   "cell_type": "markdown",
   "metadata": {},
   "source": [
    "# Features engineering"
   ]
  },
  {
   "cell_type": "markdown",
   "metadata": {},
   "source": [
    "## Modifications for the whole dataset"
   ]
  },
  {
   "cell_type": "markdown",
   "metadata": {},
   "source": [
    "### Binary values\n",
    "Variables: 'default', 'housing', 'loan'\\\n",
    "Values: 'yes', 'no'\\\n",
    "Method: map to yes=1, no=0"
   ]
  },
  {
   "cell_type": "code",
   "execution_count": 18,
   "metadata": {},
   "outputs": [],
   "source": [
    "X = X.replace('yes', 1)\n",
    "X = X.replace('no', 0)"
   ]
  },
  {
   "cell_type": "markdown",
   "metadata": {},
   "source": [
    "### Month variable\n",
    "Values: string abbreviations\\\n",
    "Method: transform to numerical"
   ]
  },
  {
   "cell_type": "code",
   "execution_count": 19,
   "metadata": {},
   "outputs": [],
   "source": [
    "X.month = X.month.map(dict(\n",
    "jan=1, feb=2, mar=3, apr=4, may=5, jun=6,\n",
    "jul=7, aug=8, sep=9, oct=10, nov=11, dec=12))"
   ]
  },
  {
   "cell_type": "markdown",
   "metadata": {},
   "source": [
    "## Train test split\n",
    "Now we split the dataset to train and test parts to prevent data leakage in the future model leaning."
   ]
  },
  {
   "cell_type": "code",
   "execution_count": 20,
   "metadata": {},
   "outputs": [],
   "source": [
    "X_train,X_test,y_train,y_test = train_test_split(X,y,test_size=0.2,random_state = 42,stratify=y)"
   ]
  },
  {
   "cell_type": "markdown",
   "metadata": {},
   "source": [
    "## Continuous variables"
   ]
  },
  {
   "cell_type": "markdown",
   "metadata": {},
   "source": [
    "### Train set"
   ]
  },
  {
   "cell_type": "code",
   "execution_count": 21,
   "metadata": {},
   "outputs": [],
   "source": [
    "def skew(X, conti):\n",
    "    '''Calculates skewness of continuous variables in dataset. conti - var list\n",
    "    returns columns with skewness>2'''\n",
    "    skewed = []\n",
    "    for column in conti.columns:\n",
    "        if conti[column].skew()>2:\n",
    "            skewed.append(column)\n",
    "        print(f'{column.capitalize()} skew = {conti[column].skew()}')\n",
    "    return(skewed)"
   ]
  },
  {
   "cell_type": "code",
   "execution_count": 22,
   "metadata": {},
   "outputs": [
    {
     "name": "stdout",
     "output_type": "stream",
     "text": [
      "Age skew = 0.6995014533559305\n",
      "Balance skew = 6.596430546295735\n",
      "Day skew = 0.09462690455175846\n",
      "Duration skew = 2.7724197169136455\n",
      "Campaign skew = 4.74391446894159\n",
      "Pdays skew = 2.71707136656418\n",
      "Previous skew = 5.875258677896706\n"
     ]
    }
   ],
   "source": [
    "skew_train = skew(X_train, conti)"
   ]
  },
  {
   "cell_type": "markdown",
   "metadata": {},
   "source": [
    "It is known that ML algorithms tend to perform worse if they have to deal with skewed data. Here we arbitrally have chosen columns with skewness above 2 and transform them, to reduce that parameter."
   ]
  },
  {
   "cell_type": "code",
   "execution_count": 23,
   "metadata": {},
   "outputs": [],
   "source": [
    "def skew_reduce(X, skewed):\n",
    "    '''Applies boxcox or yeojohnson transform on skew vars'''\n",
    "    for column in skewed:\n",
    "        if X[column].min()>0:\n",
    "            print(pd.Series(boxcox(X[column])[0]).skew(),f'{column} boxcox')\n",
    "            X.reset_index(drop=True, inplace=True)\n",
    "            X.loc[:, column] = pd.Series(boxcox(X[column])[0])\n",
    "        else:\n",
    "            print(pd.Series(yeojohnson(X[column])[0]).skew(),f'{column} yeojohnson')\n",
    "            X.reset_index(drop=True, inplace=True)\n",
    "            X.loc[:, column] = pd.Series(yeojohnson(X[column])[0])"
   ]
  },
  {
   "cell_type": "markdown",
   "metadata": {},
   "source": [
    "Ideally we would like to use boxcox transormation for all our chosen data, but this type of transormation does not work with negative values. Instead of trying to add some constant to these columns with non-positive values we decided to use yeojohnson transormation which is capable of dealing with negative data. As we can see in all of our columns we have managed to reduce skewness massively."
   ]
  },
  {
   "cell_type": "code",
   "execution_count": 24,
   "metadata": {},
   "outputs": [
    {
     "name": "stdout",
     "output_type": "stream",
     "text": [
      "1.1399111072539496 balance yeojohnson\n",
      "0.015517773448774247 duration boxcox\n",
      "0.16697552573629013 campaign boxcox\n",
      "1.626877725736565 pdays yeojohnson\n",
      "1.626167933357519 previous yeojohnson\n"
     ]
    },
    {
     "name": "stderr",
     "output_type": "stream",
     "text": [
      "/home/arctickey/anaconda3/lib/python3.7/site-packages/pandas/core/indexing.py:965: SettingWithCopyWarning: \n",
      "A value is trying to be set on a copy of a slice from a DataFrame.\n",
      "Try using .loc[row_indexer,col_indexer] = value instead\n",
      "\n",
      "See the caveats in the documentation: https://pandas.pydata.org/pandas-docs/stable/user_guide/indexing.html#returning-a-view-versus-a-copy\n",
      "  self.obj[item] = s\n"
     ]
    }
   ],
   "source": [
    "skew_reduce(X_train, skew_train)"
   ]
  },
  {
   "cell_type": "markdown",
   "metadata": {},
   "source": [
    "### Test set"
   ]
  },
  {
   "cell_type": "code",
   "execution_count": 25,
   "metadata": {},
   "outputs": [
    {
     "name": "stdout",
     "output_type": "stream",
     "text": [
      "Age skew = 0.6995014533559305\n",
      "Balance skew = 6.596430546295735\n",
      "Day skew = 0.09462690455175846\n",
      "Duration skew = 2.7724197169136455\n",
      "Campaign skew = 4.74391446894159\n",
      "Pdays skew = 2.71707136656418\n",
      "Previous skew = 5.875258677896706\n"
     ]
    }
   ],
   "source": [
    "skew_test = skew(X_test, conti)"
   ]
  },
  {
   "cell_type": "code",
   "execution_count": 26,
   "metadata": {},
   "outputs": [
    {
     "name": "stdout",
     "output_type": "stream",
     "text": [
      "2.5836387077116316 balance yeojohnson\n",
      "0.01596915036078293 duration boxcox\n",
      "0.15796010842169095 campaign boxcox\n",
      "1.8338049803324448 pdays yeojohnson\n",
      "1.83514156813807 previous yeojohnson\n"
     ]
    }
   ],
   "source": [
    "skew_reduce(X_test, skew_test)"
   ]
  },
  {
   "cell_type": "markdown",
   "metadata": {},
   "source": [
    "## Categorical variables"
   ]
  },
  {
   "cell_type": "code",
   "execution_count": 27,
   "metadata": {},
   "outputs": [
    {
     "data": {
      "text/plain": [
       "Index(['job', 'marital', 'education', 'contact', 'poutcome'], dtype='object')"
      ]
     },
     "execution_count": 27,
     "metadata": {},
     "output_type": "execute_result"
    }
   ],
   "source": [
    "#List of categorical variables\n",
    "X.select_dtypes(include='object').columns"
   ]
  },
  {
   "cell_type": "markdown",
   "metadata": {},
   "source": [
    "### Variables: 'job', 'marital', 'education', 'poutcom', 'contact'"
   ]
  },
  {
   "cell_type": "markdown",
   "metadata": {},
   "source": [
    "Thanks to EDA we know that:\n",
    "\n",
    "- 'unknown' values are present\n",
    "- 'job', 'education', 'poutcom' seem to have impact on target variable\n",
    "- values distributions have no dangerous disparities (in terms of using the target encoding method)\n",
    "\n",
    "Hence, we decide to:\n",
    "\n",
    " - leave the 'unknown' values, as it represents best the idea of the missing information in our case\n",
    " - apply target encoding method to variables related with target variable\n",
    " - apply one-hot encoding to other variables\n",
    " \n",
    "Expecting target encoding to reflect the relationship of variables with target variable - where it is present according to EDA - and one-hot method to neutrally pass on values of other variables.\\\n",
    "\\\n",
    "For second approach to compere results we decide to apply target encoding for all of these features."
   ]
  },
  {
   "cell_type": "code",
   "execution_count": 28,
   "metadata": {},
   "outputs": [],
   "source": [
    "#Approach 1\n",
    "X1_train = X_train.copy()\n",
    "X1_test = X_test.copy()\n",
    "\n",
    "#Target encoding train set\n",
    "te = TargetEncoder()\n",
    "X1_train.loc[:, ['job', 'education', 'poutcome']] = te.fit_transform(X1_train.loc[:, ['job', 'education', 'poutcome']], y_train)\n",
    "#test set\n",
    "X1_test.loc[:, ['job', 'education', 'poutcome']] = te.transform(X1_test.loc[:, ['job', 'education', 'poutcome']])\n",
    "\n",
    "#One-hot encoding\n",
    "X1_train = pd.get_dummies(X1_train, columns=['marital', 'contact'])\n",
    "X1_test = pd.get_dummies(X1_test, columns=['marital', 'contact'])\n",
    "\n",
    "#For future\n",
    "cols = X1_train.columns"
   ]
  },
  {
   "cell_type": "markdown",
   "metadata": {},
   "source": [
    "Scaling the data just for sake we might use alghoritm that require standarized input."
   ]
  },
  {
   "cell_type": "code",
   "execution_count": 29,
   "metadata": {},
   "outputs": [],
   "source": [
    "scaler = StandardScaler()\n",
    "scaler2 = StandardScaler()\n",
    "\n",
    "X1_train = scaler.fit_transform(X1_train)\n",
    "X1_test = scaler.transform(X1_test)\n",
    "\n"
   ]
  },
  {
   "cell_type": "markdown",
   "metadata": {},
   "source": [
    "# Modeling"
   ]
  },
  {
   "cell_type": "code",
   "execution_count": 30,
   "metadata": {},
   "outputs": [],
   "source": [
    "def modeling(X_train, y_train):\n",
    "        #cv folds,\n",
    "        kfold = KFold(n_splits=5, random_state=42, shuffle=True)\n",
    "        scoring = {'precision': 'precision_macro',\n",
    "                   'recall': 'recall_macro',\n",
    "                   'accuracy': 'accuracy',\n",
    "                   'auc': 'roc_auc'}\n",
    "        #Logistic regression\"\n",
    "        logistic =  LogisticRegression(C=0.001,solver='saga',random_state=42)\n",
    "        r_log = cross_validate(logistic,X_train,y_train,scoring=scoring, cv=kfold)\n",
    "        #xgb\n",
    "        params = {'colsample_bytree': 0.8, 'gamma': 1.5, 'max_depth': 4, 'min_child_weight': 1, 'subsample': 0.8,'n_estimators':400,'random_state':42}\n",
    "        xg = xgb.XGBClassifier(objective='binary:logistic',nthread=4,n_jobs=4,params=params)\n",
    "        r_xgb = cross_validate(xg, X_train, y_train, cv=kfold, scoring=scoring)\n",
    "        #random forest\n",
    "        params = {'max_depth': 3, 'min_samples_leaf': 2, 'min_samples_split': 2, 'n_estimators': 500,'max_features':'auto','random_state':42}\n",
    "        tree = RandomForestClassifier(**params)\n",
    "        r_ranforest = cross_validate(tree,X_train,y_train,scoring=scoring,cv=kfold)\n",
    "    \n",
    "        svm = SVC(C=10)\n",
    "        r_svm = cross_validate(svm,X_train,y_train,scoring=scoring,cv=kfold)\n",
    "        return([r_log, r_ranforest, r_xgb,r_svm])"
   ]
  },
  {
   "cell_type": "code",
   "execution_count": 31,
   "metadata": {},
   "outputs": [
    {
     "name": "stderr",
     "output_type": "stream",
     "text": [
      "/home/arctickey/anaconda3/lib/python3.7/site-packages/sklearn/metrics/_classification.py:1272: UndefinedMetricWarning: Precision is ill-defined and being set to 0.0 in labels with no predicted samples. Use `zero_division` parameter to control this behavior.\n",
      "  _warn_prf(average, modifier, msg_start, len(result))\n",
      "/home/arctickey/anaconda3/lib/python3.7/site-packages/sklearn/metrics/_classification.py:1272: UndefinedMetricWarning: Precision is ill-defined and being set to 0.0 in labels with no predicted samples. Use `zero_division` parameter to control this behavior.\n",
      "  _warn_prf(average, modifier, msg_start, len(result))\n",
      "/home/arctickey/anaconda3/lib/python3.7/site-packages/sklearn/metrics/_classification.py:1272: UndefinedMetricWarning: Precision is ill-defined and being set to 0.0 in labels with no predicted samples. Use `zero_division` parameter to control this behavior.\n",
      "  _warn_prf(average, modifier, msg_start, len(result))\n",
      "/home/arctickey/anaconda3/lib/python3.7/site-packages/sklearn/metrics/_classification.py:1272: UndefinedMetricWarning: Precision is ill-defined and being set to 0.0 in labels with no predicted samples. Use `zero_division` parameter to control this behavior.\n",
      "  _warn_prf(average, modifier, msg_start, len(result))\n",
      "/home/arctickey/anaconda3/lib/python3.7/site-packages/sklearn/metrics/_classification.py:1272: UndefinedMetricWarning: Precision is ill-defined and being set to 0.0 in labels with no predicted samples. Use `zero_division` parameter to control this behavior.\n",
      "  _warn_prf(average, modifier, msg_start, len(result))\n",
      "/home/arctickey/anaconda3/lib/python3.7/site-packages/sklearn/metrics/_classification.py:1272: UndefinedMetricWarning: Precision is ill-defined and being set to 0.0 in labels with no predicted samples. Use `zero_division` parameter to control this behavior.\n",
      "  _warn_prf(average, modifier, msg_start, len(result))\n"
     ]
    }
   ],
   "source": [
    "result = modeling(X1_train,y_train)"
   ]
  },
  {
   "cell_type": "markdown",
   "metadata": {},
   "source": [
    "# Validation scores"
   ]
  },
  {
   "cell_type": "markdown",
   "metadata": {},
   "source": [
    "Scores means from cross-validation are presented below for three tested algorithms and two features engineering approaches. We observe satisfying accuracy and auc, but recall needs to be improved in future. Its low score is propably caused by imbalance in target variable. Algorithms results are suprisingly very similar. XGBoost performed best in recall score."
   ]
  },
  {
   "cell_type": "code",
   "execution_count": 32,
   "metadata": {},
   "outputs": [
    {
     "name": "stdout",
     "output_type": "stream",
     "text": [
      "Logistic regression:\n"
     ]
    },
    {
     "data": {
      "text/html": [
       "<div>\n",
       "<style scoped>\n",
       "    .dataframe tbody tr th:only-of-type {\n",
       "        vertical-align: middle;\n",
       "    }\n",
       "\n",
       "    .dataframe tbody tr th {\n",
       "        vertical-align: top;\n",
       "    }\n",
       "\n",
       "    .dataframe thead th {\n",
       "        text-align: right;\n",
       "    }\n",
       "</style>\n",
       "<table border=\"1\" class=\"dataframe\">\n",
       "  <thead>\n",
       "    <tr style=\"text-align: right;\">\n",
       "      <th></th>\n",
       "      <th>X1</th>\n",
       "    </tr>\n",
       "  </thead>\n",
       "  <tbody>\n",
       "    <tr>\n",
       "      <th>validate_precision</th>\n",
       "      <td>0.442340</td>\n",
       "    </tr>\n",
       "    <tr>\n",
       "      <th>validate_recall</th>\n",
       "      <td>0.500000</td>\n",
       "    </tr>\n",
       "    <tr>\n",
       "      <th>validate_accuarcy</th>\n",
       "      <td>0.884681</td>\n",
       "    </tr>\n",
       "    <tr>\n",
       "      <th>validate_auc</th>\n",
       "      <td>0.859009</td>\n",
       "    </tr>\n",
       "  </tbody>\n",
       "</table>\n",
       "</div>"
      ],
      "text/plain": [
       "                          X1\n",
       "validate_precision  0.442340\n",
       "validate_recall     0.500000\n",
       "validate_accuarcy   0.884681\n",
       "validate_auc        0.859009"
      ]
     },
     "execution_count": 32,
     "metadata": {},
     "output_type": "execute_result"
    }
   ],
   "source": [
    "r1 = pd.DataFrame(result[0]).mean()\n",
    "r1.index = ['fit_time','score_time','validate_precision','validate_recall','validate_accuarcy','validate_auc']\n",
    "r = pd.DataFrame({'X1': r1.values}, index=r1.axes)\n",
    "r.drop(['fit_time','score_time'],inplace=True, level=0)\n",
    "print(\"Logistic regression:\")\n",
    "r"
   ]
  },
  {
   "cell_type": "code",
   "execution_count": 33,
   "metadata": {},
   "outputs": [
    {
     "name": "stdout",
     "output_type": "stream",
     "text": [
      "Random forest:\n"
     ]
    },
    {
     "data": {
      "text/html": [
       "<div>\n",
       "<style scoped>\n",
       "    .dataframe tbody tr th:only-of-type {\n",
       "        vertical-align: middle;\n",
       "    }\n",
       "\n",
       "    .dataframe tbody tr th {\n",
       "        vertical-align: top;\n",
       "    }\n",
       "\n",
       "    .dataframe thead th {\n",
       "        text-align: right;\n",
       "    }\n",
       "</style>\n",
       "<table border=\"1\" class=\"dataframe\">\n",
       "  <thead>\n",
       "    <tr style=\"text-align: right;\">\n",
       "      <th></th>\n",
       "      <th>X1</th>\n",
       "    </tr>\n",
       "  </thead>\n",
       "  <tbody>\n",
       "    <tr>\n",
       "      <th>validate_precision</th>\n",
       "      <td>0.492382</td>\n",
       "    </tr>\n",
       "    <tr>\n",
       "      <th>validate_recall</th>\n",
       "      <td>0.500367</td>\n",
       "    </tr>\n",
       "    <tr>\n",
       "      <th>validate_accuarcy</th>\n",
       "      <td>0.883574</td>\n",
       "    </tr>\n",
       "    <tr>\n",
       "      <th>validate_auc</th>\n",
       "      <td>0.872946</td>\n",
       "    </tr>\n",
       "  </tbody>\n",
       "</table>\n",
       "</div>"
      ],
      "text/plain": [
       "                          X1\n",
       "validate_precision  0.492382\n",
       "validate_recall     0.500367\n",
       "validate_accuarcy   0.883574\n",
       "validate_auc        0.872946"
      ]
     },
     "execution_count": 33,
     "metadata": {},
     "output_type": "execute_result"
    }
   ],
   "source": [
    "r1 = pd.DataFrame(result[1]).mean()\n",
    "r1.index = ['fit_time','score_time','validate_precision','validate_recall','validate_accuarcy','validate_auc']\n",
    "r = pd.DataFrame({'X1': r1.values}, index=r1.axes)\n",
    "r.drop(['fit_time','score_time'],inplace=True, level=0)\n",
    "print(\"Random forest:\")\n",
    "r"
   ]
  },
  {
   "cell_type": "code",
   "execution_count": 34,
   "metadata": {},
   "outputs": [
    {
     "name": "stdout",
     "output_type": "stream",
     "text": [
      "XGBoost:\n"
     ]
    },
    {
     "data": {
      "text/html": [
       "<div>\n",
       "<style scoped>\n",
       "    .dataframe tbody tr th:only-of-type {\n",
       "        vertical-align: middle;\n",
       "    }\n",
       "\n",
       "    .dataframe tbody tr th {\n",
       "        vertical-align: top;\n",
       "    }\n",
       "\n",
       "    .dataframe thead th {\n",
       "        text-align: right;\n",
       "    }\n",
       "</style>\n",
       "<table border=\"1\" class=\"dataframe\">\n",
       "  <thead>\n",
       "    <tr style=\"text-align: right;\">\n",
       "      <th></th>\n",
       "      <th>X1</th>\n",
       "    </tr>\n",
       "  </thead>\n",
       "  <tbody>\n",
       "    <tr>\n",
       "      <th>validate_precision</th>\n",
       "      <td>0.754916</td>\n",
       "    </tr>\n",
       "    <tr>\n",
       "      <th>validate_recall</th>\n",
       "      <td>0.675866</td>\n",
       "    </tr>\n",
       "    <tr>\n",
       "      <th>validate_accuarcy</th>\n",
       "      <td>0.897952</td>\n",
       "    </tr>\n",
       "    <tr>\n",
       "      <th>validate_auc</th>\n",
       "      <td>0.899142</td>\n",
       "    </tr>\n",
       "  </tbody>\n",
       "</table>\n",
       "</div>"
      ],
      "text/plain": [
       "                          X1\n",
       "validate_precision  0.754916\n",
       "validate_recall     0.675866\n",
       "validate_accuarcy   0.897952\n",
       "validate_auc        0.899142"
      ]
     },
     "execution_count": 34,
     "metadata": {},
     "output_type": "execute_result"
    }
   ],
   "source": [
    "r1 = pd.DataFrame(result[2]).mean()\n",
    "r1.index = ['fit_time','score_time','validate_precision','validate_recall','validate_accuarcy','validate_auc']\n",
    "r = pd.DataFrame({'X1': r1.values}, index=r1.axes)\n",
    "r.drop(['fit_time','score_time'],inplace=True, level=0)\n",
    "print(\"XGBoost:\")\n",
    "r"
   ]
  },
  {
   "cell_type": "code",
   "execution_count": 35,
   "metadata": {},
   "outputs": [
    {
     "name": "stdout",
     "output_type": "stream",
     "text": [
      "SVM:\n"
     ]
    },
    {
     "data": {
      "text/html": [
       "<div>\n",
       "<style scoped>\n",
       "    .dataframe tbody tr th:only-of-type {\n",
       "        vertical-align: middle;\n",
       "    }\n",
       "\n",
       "    .dataframe tbody tr th {\n",
       "        vertical-align: top;\n",
       "    }\n",
       "\n",
       "    .dataframe thead th {\n",
       "        text-align: right;\n",
       "    }\n",
       "</style>\n",
       "<table border=\"1\" class=\"dataframe\">\n",
       "  <thead>\n",
       "    <tr style=\"text-align: right;\">\n",
       "      <th></th>\n",
       "      <th>X1</th>\n",
       "    </tr>\n",
       "  </thead>\n",
       "  <tbody>\n",
       "    <tr>\n",
       "      <th>validate_precision</th>\n",
       "      <td>0.720049</td>\n",
       "    </tr>\n",
       "    <tr>\n",
       "      <th>validate_recall</th>\n",
       "      <td>0.642229</td>\n",
       "    </tr>\n",
       "    <tr>\n",
       "      <th>validate_accuarcy</th>\n",
       "      <td>0.888275</td>\n",
       "    </tr>\n",
       "    <tr>\n",
       "      <th>validate_auc</th>\n",
       "      <td>0.851814</td>\n",
       "    </tr>\n",
       "  </tbody>\n",
       "</table>\n",
       "</div>"
      ],
      "text/plain": [
       "                          X1\n",
       "validate_precision  0.720049\n",
       "validate_recall     0.642229\n",
       "validate_accuarcy   0.888275\n",
       "validate_auc        0.851814"
      ]
     },
     "execution_count": 35,
     "metadata": {},
     "output_type": "execute_result"
    }
   ],
   "source": [
    "r1 = pd.DataFrame(result[3]).mean()\n",
    "r1.index = ['fit_time','score_time','validate_precision','validate_recall','validate_accuarcy','validate_auc']\n",
    "r = pd.DataFrame({'X1': r1.values}, index=r1.axes)\n",
    "r.drop(['fit_time','score_time'],inplace=True, level=0)\n",
    "print(\"SVM:\")\n",
    "r"
   ]
  },
  {
   "cell_type": "markdown",
   "metadata": {},
   "source": [
    "## Bayes optimization"
   ]
  },
  {
   "cell_type": "markdown",
   "metadata": {},
   "source": [
    "We will use Bayes Optimization in order to get as good score as we can. We will focus on xgboost alghoritm"
   ]
  },
  {
   "cell_type": "code",
   "execution_count": 72,
   "metadata": {},
   "outputs": [
    {
     "name": "stdout",
     "output_type": "stream",
     "text": [
      "|   iter    |  target   | colsam... |   gamma   | learni... | max_depth | n_esti... | subsample |\n",
      "-------------------------------------------------------------------------------------------------\n",
      "| \u001b[0m 1       \u001b[0m | \u001b[0m 0.8905  \u001b[0m | \u001b[0m 0.7085  \u001b[0m | \u001b[0m 3.602   \u001b[0m | \u001b[0m 0.01011 \u001b[0m | \u001b[0m 5.814   \u001b[0m | \u001b[0m 232.1   \u001b[0m | \u001b[0m 0.5462  \u001b[0m |\n",
      "| \u001b[0m 2       \u001b[0m | \u001b[0m 0.8834  \u001b[0m | \u001b[0m 0.5931  \u001b[0m | \u001b[0m 1.728   \u001b[0m | \u001b[0m 0.4028  \u001b[0m | \u001b[0m 7.233   \u001b[0m | \u001b[0m 477.3   \u001b[0m | \u001b[0m 0.8426  \u001b[0m |\n",
      "| \u001b[95m 3       \u001b[0m | \u001b[95m 0.9037  \u001b[0m | \u001b[95m 0.6022  \u001b[0m | \u001b[95m 4.391   \u001b[0m | \u001b[95m 0.03711 \u001b[0m | \u001b[95m 8.023   \u001b[0m | \u001b[95m 475.6   \u001b[0m | \u001b[95m 0.7793  \u001b[0m |\n",
      "| \u001b[0m 4       \u001b[0m | \u001b[0m 0.8792  \u001b[0m | \u001b[0m 0.5702  \u001b[0m | \u001b[0m 0.9905  \u001b[0m | \u001b[0m 0.8027  \u001b[0m | \u001b[0m 9.81    \u001b[0m | \u001b[0m 382.1   \u001b[0m | \u001b[0m 0.8462  \u001b[0m |\n",
      "| \u001b[95m 5       \u001b[0m | \u001b[95m 0.9048  \u001b[0m | \u001b[95m 0.9382  \u001b[0m | \u001b[95m 4.473   \u001b[0m | \u001b[95m 0.09419 \u001b[0m | \u001b[95m 4.234   \u001b[0m | \u001b[95m 252.8   \u001b[0m | \u001b[95m 0.9391  \u001b[0m |\n",
      "| \u001b[0m 6       \u001b[0m | \u001b[0m 0.902   \u001b[0m | \u001b[0m 1.0     \u001b[0m | \u001b[0m 5.0     \u001b[0m | \u001b[0m 0.01    \u001b[0m | \u001b[0m 10.0    \u001b[0m | \u001b[0m 1e+03   \u001b[0m | \u001b[0m 0.5     \u001b[0m |\n",
      "| \u001b[0m 7       \u001b[0m | \u001b[0m 0.9011  \u001b[0m | \u001b[0m 1.0     \u001b[0m | \u001b[0m 5.0     \u001b[0m | \u001b[0m 0.01    \u001b[0m | \u001b[0m 10.0    \u001b[0m | \u001b[0m 773.3   \u001b[0m | \u001b[0m 0.5     \u001b[0m |\n",
      "| \u001b[0m 8       \u001b[0m | \u001b[0m 0.8752  \u001b[0m | \u001b[0m 0.9231  \u001b[0m | \u001b[0m 4.731   \u001b[0m | \u001b[0m 0.8683  \u001b[0m | \u001b[0m 5.227   \u001b[0m | \u001b[0m 100.4   \u001b[0m | \u001b[0m 0.8802  \u001b[0m |\n",
      "| \u001b[0m 9       \u001b[0m | \u001b[0m 0.8988  \u001b[0m | \u001b[0m 0.5171  \u001b[0m | \u001b[0m 5.0     \u001b[0m | \u001b[0m 0.01    \u001b[0m | \u001b[0m 9.992   \u001b[0m | \u001b[0m 648.7   \u001b[0m | \u001b[0m 0.5     \u001b[0m |\n",
      "| \u001b[0m 10      \u001b[0m | \u001b[0m 0.9015  \u001b[0m | \u001b[0m 0.5558  \u001b[0m | \u001b[0m 4.932   \u001b[0m | \u001b[0m 0.01315 \u001b[0m | \u001b[0m 5.033   \u001b[0m | \u001b[0m 898.7   \u001b[0m | \u001b[0m 0.725   \u001b[0m |\n",
      "| \u001b[0m 11      \u001b[0m | \u001b[0m 0.8545  \u001b[0m | \u001b[0m 0.9295  \u001b[0m | \u001b[0m 4.886   \u001b[0m | \u001b[0m 0.9899  \u001b[0m | \u001b[0m 9.212   \u001b[0m | \u001b[0m 560.9   \u001b[0m | \u001b[0m 0.7319  \u001b[0m |\n",
      "| \u001b[0m 12      \u001b[0m | \u001b[0m 0.9015  \u001b[0m | \u001b[0m 0.9962  \u001b[0m | \u001b[0m 4.905   \u001b[0m | \u001b[0m 0.09609 \u001b[0m | \u001b[0m 4.317   \u001b[0m | \u001b[0m 721.0   \u001b[0m | \u001b[0m 0.5851  \u001b[0m |\n",
      "| \u001b[95m 13      \u001b[0m | \u001b[95m 0.9054  \u001b[0m | \u001b[95m 0.7294  \u001b[0m | \u001b[95m 4.832   \u001b[0m | \u001b[95m 0.3287  \u001b[0m | \u001b[95m 4.299   \u001b[0m | \u001b[95m 422.2   \u001b[0m | \u001b[95m 0.9444  \u001b[0m |\n",
      "| \u001b[0m 14      \u001b[0m | \u001b[0m 0.8705  \u001b[0m | \u001b[0m 0.7299  \u001b[0m | \u001b[0m 4.084   \u001b[0m | \u001b[0m 0.6618  \u001b[0m | \u001b[0m 9.972   \u001b[0m | \u001b[0m 946.0   \u001b[0m | \u001b[0m 0.6209  \u001b[0m |\n",
      "| \u001b[0m 15      \u001b[0m | \u001b[0m 0.8767  \u001b[0m | \u001b[0m 0.6106  \u001b[0m | \u001b[0m 4.376   \u001b[0m | \u001b[0m 0.5116  \u001b[0m | \u001b[0m 4.118   \u001b[0m | \u001b[0m 825.0   \u001b[0m | \u001b[0m 0.5743  \u001b[0m |\n",
      "| \u001b[0m 16      \u001b[0m | \u001b[0m 0.8401  \u001b[0m | \u001b[0m 0.8834  \u001b[0m | \u001b[0m 4.796   \u001b[0m | \u001b[0m 0.866   \u001b[0m | \u001b[0m 9.849   \u001b[0m | \u001b[0m 299.8   \u001b[0m | \u001b[0m 0.5216  \u001b[0m |\n",
      "| \u001b[0m 17      \u001b[0m | \u001b[0m 0.8897  \u001b[0m | \u001b[0m 0.672   \u001b[0m | \u001b[0m 4.683   \u001b[0m | \u001b[0m 0.0316  \u001b[0m | \u001b[0m 4.077   \u001b[0m | \u001b[0m 145.0   \u001b[0m | \u001b[0m 0.6372  \u001b[0m |\n",
      "| \u001b[0m 18      \u001b[0m | \u001b[0m 0.8722  \u001b[0m | \u001b[0m 0.7689  \u001b[0m | \u001b[0m 0.03387 \u001b[0m | \u001b[0m 0.3789  \u001b[0m | \u001b[0m 9.932   \u001b[0m | \u001b[0m 879.2   \u001b[0m | \u001b[0m 0.5413  \u001b[0m |\n",
      "| \u001b[0m 19      \u001b[0m | \u001b[0m 0.902   \u001b[0m | \u001b[0m 0.9738  \u001b[0m | \u001b[0m 1.338   \u001b[0m | \u001b[0m 0.02356 \u001b[0m | \u001b[0m 4.198   \u001b[0m | \u001b[0m 998.5   \u001b[0m | \u001b[0m 0.8661  \u001b[0m |\n",
      "| \u001b[0m 20      \u001b[0m | \u001b[0m 0.8901  \u001b[0m | \u001b[0m 0.8852  \u001b[0m | \u001b[0m 4.718   \u001b[0m | \u001b[0m 0.534   \u001b[0m | \u001b[0m 9.814   \u001b[0m | \u001b[0m 689.9   \u001b[0m | \u001b[0m 0.7962  \u001b[0m |\n",
      "| \u001b[0m 21      \u001b[0m | \u001b[0m 0.8771  \u001b[0m | \u001b[0m 0.7404  \u001b[0m | \u001b[0m 4.575   \u001b[0m | \u001b[0m 0.601   \u001b[0m | \u001b[0m 4.083   \u001b[0m | \u001b[0m 361.0   \u001b[0m | \u001b[0m 0.7834  \u001b[0m |\n",
      "| \u001b[95m 22      \u001b[0m | \u001b[95m 0.9066  \u001b[0m | \u001b[95m 0.679   \u001b[0m | \u001b[95m 4.944   \u001b[0m | \u001b[95m 0.06861 \u001b[0m | \u001b[95m 9.908   \u001b[0m | \u001b[95m 456.5   \u001b[0m | \u001b[95m 0.7791  \u001b[0m |\n",
      "| \u001b[0m 23      \u001b[0m | \u001b[0m 0.8966  \u001b[0m | \u001b[0m 0.7838  \u001b[0m | \u001b[0m 0.2043  \u001b[0m | \u001b[0m 0.1336  \u001b[0m | \u001b[0m 4.056   \u001b[0m | \u001b[0m 257.2   \u001b[0m | \u001b[0m 0.9558  \u001b[0m |\n",
      "| \u001b[0m 24      \u001b[0m | \u001b[0m 0.8859  \u001b[0m | \u001b[0m 0.8577  \u001b[0m | \u001b[0m 0.1562  \u001b[0m | \u001b[0m 0.2308  \u001b[0m | \u001b[0m 4.068   \u001b[0m | \u001b[0m 759.7   \u001b[0m | \u001b[0m 0.8597  \u001b[0m |\n",
      "| \u001b[0m 25      \u001b[0m | \u001b[0m 0.8836  \u001b[0m | \u001b[0m 0.9794  \u001b[0m | \u001b[0m 4.984   \u001b[0m | \u001b[0m 0.6169  \u001b[0m | \u001b[0m 5.207   \u001b[0m | \u001b[0m 998.9   \u001b[0m | \u001b[0m 0.8203  \u001b[0m |\n",
      "| \u001b[0m 26      \u001b[0m | \u001b[0m 0.8885  \u001b[0m | \u001b[0m 0.5342  \u001b[0m | \u001b[0m 0.3915  \u001b[0m | \u001b[0m 0.4735  \u001b[0m | \u001b[0m 9.986   \u001b[0m | \u001b[0m 999.1   \u001b[0m | \u001b[0m 0.9404  \u001b[0m |\n",
      "| \u001b[0m 27      \u001b[0m | \u001b[0m 0.9019  \u001b[0m | \u001b[0m 0.7254  \u001b[0m | \u001b[0m 4.932   \u001b[0m | \u001b[0m 0.03027 \u001b[0m | \u001b[0m 4.614   \u001b[0m | \u001b[0m 661.7   \u001b[0m | \u001b[0m 0.7615  \u001b[0m |\n",
      "| \u001b[0m 28      \u001b[0m | \u001b[0m 0.8867  \u001b[0m | \u001b[0m 0.6176  \u001b[0m | \u001b[0m 4.612   \u001b[0m | \u001b[0m 0.3064  \u001b[0m | \u001b[0m 4.091   \u001b[0m | \u001b[0m 607.0   \u001b[0m | \u001b[0m 0.5307  \u001b[0m |\n",
      "| \u001b[0m 29      \u001b[0m | \u001b[0m 0.8977  \u001b[0m | \u001b[0m 0.9557  \u001b[0m | \u001b[0m 0.1526  \u001b[0m | \u001b[0m 0.03814 \u001b[0m | \u001b[0m 9.316   \u001b[0m | \u001b[0m 131.3   \u001b[0m | \u001b[0m 0.9072  \u001b[0m |\n",
      "| \u001b[0m 30      \u001b[0m | \u001b[0m 0.9014  \u001b[0m | \u001b[0m 0.7142  \u001b[0m | \u001b[0m 0.192   \u001b[0m | \u001b[0m 0.1273  \u001b[0m | \u001b[0m 4.101   \u001b[0m | \u001b[0m 117.4   \u001b[0m | \u001b[0m 0.6099  \u001b[0m |\n",
      "=================================================================================================\n",
      "Final Results\n",
      "{'target': 0.9066234650113536, 'params': {'colsample_bytree': 0.6790427788825881, 'gamma': 4.9437121904855585, 'learning_rate': 0.0686118272168518, 'max_depth': 9.907799344685499, 'n_estimators': 456.4887419999514, 'subsample': 0.7791139392047272}}\n"
     ]
    }
   ],
   "source": [
    "pbounds = {'learning_rate': (0.01, 1.0), 'n_estimators': (100.0, 1000.0), 'max_depth': (4.0,10.0), 'subsample': (0.5, 1.0), 'colsample_bytree': (0.5, 1.0),\n",
    "    'gamma': (0.0,5.0)}\n",
    "def xgboost_hyper_param(learning_rate,n_estimators,max_depth,subsample,colsample_bytree,gamma):\n",
    "    max_depth = int(max_depth)\n",
    "    n_estimators = int(n_estimators)\n",
    "    clf = xgb.XGBClassifier(max_depth=max_depth,learning_rate=learning_rate,n_estimators=n_estimators,subsample=subsample,colsample_bytree=colsample_bytree,gamma=gamma)\n",
    "    return np.mean(cross_val_score(clf, X1_train, y_train, cv=3, scoring='roc_auc'))\n",
    "optimizer = BayesianOptimization(f=xgboost_hyper_param, pbounds=pbounds, random_state=1)\n",
    "optimizer.maximize()\n",
    "print('Final Results')\n",
    "print(optimizer.max)"
   ]
  },
  {
   "cell_type": "markdown",
   "metadata": {},
   "source": [
    "# Test dataset performance"
   ]
  },
  {
   "cell_type": "code",
   "execution_count": 36,
   "metadata": {},
   "outputs": [],
   "source": [
    "def test(X_train,y_train,X_test,y_test):\n",
    "        #Logistic regression\n",
    "        logit = LogisticRegression(C=0.01,solver='saga',random_state=42)\n",
    "        logit.fit(X_train,y_train)\n",
    "        pred_log = logit.predict(X_test)\n",
    "        precision_log = precision_score(y_test,pred_log,average='weighted')\n",
    "        recall_log = recall_score(y_test,pred_log,average='weighted')\n",
    "        accuracy = accuracy_score(y_test,pred_log)\n",
    "        log_data = {'precision':precision_log,'recall': recall_log,'accuracy':accuracy}\n",
    "\n",
    "        #xgb\n",
    "        params ={'colsample_bytree': 0.6790427788825881, 'gamma': 4.9437121904855585, 'learning_rate': 0.0686118272168518, 'max_depth': 9.907799344685499, 'n_estimators': 456.4887419999514, 'subsample': 0.7791139392047272}\n",
    "        xg = xgb.XGBClassifier(objective='binary:logistic',nthread=4,n_jobs=4,params=params)\n",
    "        xg.fit(X_train,y_train)\n",
    "        pred_xg = xg.predict(X_test)\n",
    "        precision_xg = precision_score(y_test,pred_xg,average='weighted')\n",
    "        recall_xg = recall_score(y_test,pred_xg,average='weighted')\n",
    "        accuracy = accuracy_score(y_test,pred_xg)\n",
    "        xg_data = {'precision':precision_xg,'recall': recall_xg,'accuracy':accuracy}\n",
    "        #random forest\n",
    "        params = {'max_depth': 5, 'min_samples_leaf': 2, 'min_samples_split': 2, 'n_estimators': 1000,'max_features':'auto'}\n",
    "        tree = RandomForestClassifier(**params)\n",
    "        tree.fit(X_train,y_train)\n",
    "        pred_tree = tree.predict(X_test)\n",
    "        precision_tree = precision_score(y_test,pred_tree,average='weighted')\n",
    "        recall_tree = recall_score(y_test,pred_tree,average='weighted')\n",
    "        accuracy = accuracy_score(y_test,pred_tree)\n",
    "        tree_data = {'precision':precision_tree,'recall': recall_tree,'accuracy':accuracy}\n",
    "        svm = SVC(C=10)\n",
    "        svm.fit(X_train,y_train)\n",
    "        pred_svm = svm.predict(X_test)\n",
    "        precision_svm = precision_score(y_test,pred_svm,average='weighted')\n",
    "        recall_svm = recall_score(y_test,pred_svm,average='weighted')\n",
    "        accuracy = accuracy_score(y_test,pred_svm)\n",
    "        svm_data = {'precision':precision_svm,'recall': recall_svm,'accuracy':accuracy}\n",
    "        data = pd.DataFrame([log_data,xg_data,tree_data,svm_data])\n",
    "        data.index = ['logit','xgb','tree','svm']\n",
    "        return data.transpose()"
   ]
  },
  {
   "cell_type": "code",
   "execution_count": 37,
   "metadata": {},
   "outputs": [
    {
     "data": {
      "text/html": [
       "<div>\n",
       "<style scoped>\n",
       "    .dataframe tbody tr th:only-of-type {\n",
       "        vertical-align: middle;\n",
       "    }\n",
       "\n",
       "    .dataframe tbody tr th {\n",
       "        vertical-align: top;\n",
       "    }\n",
       "\n",
       "    .dataframe thead th {\n",
       "        text-align: right;\n",
       "    }\n",
       "</style>\n",
       "<table border=\"1\" class=\"dataframe\">\n",
       "  <thead>\n",
       "    <tr style=\"text-align: right;\">\n",
       "      <th></th>\n",
       "      <th>logit</th>\n",
       "      <th>xgb</th>\n",
       "      <th>tree</th>\n",
       "      <th>svm</th>\n",
       "    </tr>\n",
       "  </thead>\n",
       "  <tbody>\n",
       "    <tr>\n",
       "      <th>precision</th>\n",
       "      <td>0.858637</td>\n",
       "      <td>0.868563</td>\n",
       "      <td>0.880210</td>\n",
       "      <td>0.869466</td>\n",
       "    </tr>\n",
       "    <tr>\n",
       "      <th>recall</th>\n",
       "      <td>0.888398</td>\n",
       "      <td>0.882873</td>\n",
       "      <td>0.892818</td>\n",
       "      <td>0.886188</td>\n",
       "    </tr>\n",
       "    <tr>\n",
       "      <th>accuracy</th>\n",
       "      <td>0.888398</td>\n",
       "      <td>0.882873</td>\n",
       "      <td>0.892818</td>\n",
       "      <td>0.886188</td>\n",
       "    </tr>\n",
       "  </tbody>\n",
       "</table>\n",
       "</div>"
      ],
      "text/plain": [
       "              logit       xgb      tree       svm\n",
       "precision  0.858637  0.868563  0.880210  0.869466\n",
       "recall     0.888398  0.882873  0.892818  0.886188\n",
       "accuracy   0.888398  0.882873  0.892818  0.886188"
      ]
     },
     "execution_count": 37,
     "metadata": {},
     "output_type": "execute_result"
    }
   ],
   "source": [
    "result = test(X1_train,y_train,X1_test,y_test)\n",
    "result"
   ]
  },
  {
   "cell_type": "markdown",
   "metadata": {},
   "source": [
    "Almost all classifiers achieved quite simmilar scores, which is a bit surprisng."
   ]
  },
  {
   "cell_type": "markdown",
   "metadata": {},
   "source": [
    "## Score analysis"
   ]
  },
  {
   "cell_type": "markdown",
   "metadata": {},
   "source": [
    "For further tests we decided to use only one out of four classifiers we tested before. Our choice is Xgboost, mainly because of the fact that it is widely known for its superiority over other classification alghoritms."
   ]
  },
  {
   "cell_type": "code",
   "execution_count": 38,
   "metadata": {},
   "outputs": [
    {
     "data": {
      "text/plain": [
       "<sklearn.metrics._plot.confusion_matrix.ConfusionMatrixDisplay at 0x7f80f8ba3750>"
      ]
     },
     "execution_count": 38,
     "metadata": {},
     "output_type": "execute_result"
    },
    {
     "data": {
      "image/png": "[encoded data removed]",
      "text/plain": [
       "<Figure size 432x288 with 2 Axes>"
      ]
     },
     "metadata": {
      "needs_background": "light"
     },
     "output_type": "display_data"
    }
   ],
   "source": [
    "params={'colsample_bytree': 0.6790427788825881, 'gamma': 4.9437121904855585, 'learning_rate': 0.0686118272168518, 'max_depth': 9.907799344685499, 'n_estimators': 456.4887419999514, 'subsample': 0.7791139392047272}\n",
    "xg = xgb.XGBClassifier(objective='binary:logistic',nthread=4,n_jobs=4,params=params)\n",
    "xg.fit(X1_train,y_train)\n",
    "pred_xg = xg.predict(X1_test)\n",
    "scores = xg.predict_proba(X1_test)[:,1]\n",
    "plot_confusion_matrix(xg,X1_test,y_test,cmap = plt.cm.Blues)"
   ]
  },
  {
   "cell_type": "markdown",
   "metadata": {},
   "source": [
    "As we can see our classifier is able to detect one class pretty high, but the detection in the second class is not that great. Fortunately we can easily solve this by varying threshold."
   ]
  },
  {
   "cell_type": "code",
   "execution_count": 39,
   "metadata": {},
   "outputs": [
    {
     "data": {
      "text/plain": [
       "<sklearn.metrics._plot.precision_recall_curve.PrecisionRecallDisplay at 0x7f80fa13b110>"
      ]
     },
     "execution_count": 39,
     "metadata": {},
     "output_type": "execute_result"
    },
    {
     "data": {
      "image/png": "[encoded data removed]",
      "text/plain": [
       "<Figure size 432x288 with 1 Axes>"
      ]
     },
     "metadata": {
      "needs_background": "light"
     },
     "output_type": "display_data"
    }
   ],
   "source": [
    "disp = plot_precision_recall_curve(xg, X1_test, y_test)\n",
    "disp"
   ]
  },
  {
   "cell_type": "markdown",
   "metadata": {},
   "source": [
    "Average precision score is quite low, but this is because of the fact that we do have an imbalanced data set, so that varying threshold can cause precision to take very low values."
   ]
  },
  {
   "cell_type": "code",
   "execution_count": 40,
   "metadata": {},
   "outputs": [
    {
     "name": "stdout",
     "output_type": "stream",
     "text": [
      "AUC of ROC Curve: 0.8894050705848459\n"
     ]
    },
    {
     "data": {
      "image/png": "[encoded data removed]",
      "text/plain": [
       "<Figure size 432x288 with 1 Axes>"
      ]
     },
     "metadata": {
      "needs_background": "light"
     },
     "output_type": "display_data"
    }
   ],
   "source": [
    "scores = xg.predict_proba(X1_test)[:,1]\n",
    "fpr, tpr, thresholds = roc_curve(y_test, scores)\n",
    "roc_auc = roc_auc_score(y_test, scores)\n",
    "print(\"AUC of ROC Curve:\", roc_auc)\n",
    "plt.plot(fpr, tpr)\n",
    "plt.title(\"ROC Curve\")\n",
    "plt.xlabel(\"False Positive Rate\")\n",
    "plt.ylabel(\"True Positive Rate\")\n",
    "plt.show()"
   ]
  },
  {
   "cell_type": "markdown",
   "metadata": {},
   "source": [
    "ROC curve is among the best tools to determine the performance of classifier working on imbalanced dataset. As we can see our classifier peroform great. It is also worth noting, that if we want to raise precision or recall, we can simply adjust threshold, so that the classifier will fulfill our demands."
   ]
  },
  {
   "cell_type": "code",
   "execution_count": 41,
   "metadata": {},
   "outputs": [
    {
     "name": "stdout",
     "output_type": "stream",
     "text": [
      "Classification Report:\n",
      "               precision    recall  f1-score   support\n",
      "\n",
      "           0       0.96      0.86      0.91       801\n",
      "           1       0.40      0.75      0.53       104\n",
      "\n",
      "    accuracy                           0.84       905\n",
      "   macro avg       0.68      0.80      0.72       905\n",
      "weighted avg       0.90      0.84      0.86       905\n",
      "\n"
     ]
    }
   ],
   "source": [
    "decisions = (xg.predict_proba(X1_test) >= 0.1).astype(int)[:,1]\n",
    "print('Classification Report:\\n',classification_report(y_test,decisions))"
   ]
  },
  {
   "cell_type": "markdown",
   "metadata": {},
   "source": [
    "Setting threshold for very low value, as we see here 0.1, can easily improve detection on oure second class."
   ]
  },
  {
   "cell_type": "code",
   "execution_count": 42,
   "metadata": {},
   "outputs": [
    {
     "data": {
      "text/plain": [
       "<matplotlib.axes._subplots.AxesSubplot at 0x7f80ef7e1c50>"
      ]
     },
     "execution_count": 42,
     "metadata": {},
     "output_type": "execute_result"
    },
    {
     "data": {
      "image/png": "[encoded data removed]",
      "text/plain": [
       "<Figure size 432x288 with 2 Axes>"
      ]
     },
     "metadata": {
      "needs_background": "light"
     },
     "output_type": "display_data"
    }
   ],
   "source": [
    "data = confusion_matrix(y_test,decisions)\n",
    "sns.heatmap(data, cmap=\"Blues\", annot=True,fmt='g')"
   ]
  },
  {
   "cell_type": "markdown",
   "metadata": {},
   "source": [
    "# Stacking"
   ]
  },
  {
   "cell_type": "markdown",
   "metadata": {},
   "source": [
    "As a final step we decided to stack our classifiers to make our predictions even better."
   ]
  },
  {
   "cell_type": "code",
   "execution_count": 43,
   "metadata": {},
   "outputs": [],
   "source": [
    "\n",
    "params = {'max_depth': 5, 'min_samples_leaf': 2, 'min_samples_split': 2, 'n_estimators': 1000,'max_features':'auto'}\n",
    "estimators = [('logit', LogisticRegression(C=0.01,solver='saga',random_state=42)),\n",
    "             ('svm',SVC(C=10)),\n",
    "            ('tree',RandomForestClassifier(**params))]"
   ]
  },
  {
   "cell_type": "code",
   "execution_count": 46,
   "metadata": {},
   "outputs": [],
   "source": [
    "params ={'colsample_bytree': 0.6790427788825881, 'gamma': 4.9437121904855585, 'learning_rate': 0.0686118272168518, 'max_depth': 9.907799344685499, 'n_estimators': 456.4887419999514, 'subsample': 0.7791139392047272}\n",
    "xg = xgb.XGBClassifier(objective='binary:logistic',nthread=4,n_jobs=4,params=params)\n",
    "reg = StackingClassifier(estimators=estimators,final_estimator=xg)"
   ]
  },
  {
   "cell_type": "code",
   "execution_count": 49,
   "metadata": {},
   "outputs": [
    {
     "name": "stdout",
     "output_type": "stream",
     "text": [
      "Precision: 0.8580908850290745, recall: 0.8740331491712707, accuracy: 0.8740331491712707\n"
     ]
    }
   ],
   "source": [
    "reg.fit(X1_train,y_train)\n",
    "preds = reg.predict(X1_test)\n",
    "precision = precision_score(y_test,preds,average='weighted')\n",
    "recall = recall_score(y_test,preds,average='weighted')\n",
    "accuracy = accuracy_score(y_test,preds)\n",
    "print(f\"Precision: {precision}, recall: {recall}, accuracy: {accuracy}\")"
   ]
  },
  {
   "cell_type": "code",
   "execution_count": 51,
   "metadata": {},
   "outputs": [
    {
     "name": "stdout",
     "output_type": "stream",
     "text": [
      "AUC of ROC Curve: 0.841670267934313\n"
     ]
    },
    {
     "data": {
      "image/png": "[encoded data removed]",
      "text/plain": [
       "<Figure size 432x288 with 1 Axes>"
      ]
     },
     "metadata": {
      "needs_background": "light"
     },
     "output_type": "display_data"
    }
   ],
   "source": [
    "scores = reg.predict_proba(X1_test)[:,1]\n",
    "fpr, tpr, thresholds = roc_curve(y_test, scores)\n",
    "roc_auc = roc_auc_score(y_test, scores)\n",
    "print(\"AUC of ROC Curve:\", roc_auc)\n",
    "plt.plot(fpr, tpr)\n",
    "plt.title(\"ROC Curve\")\n",
    "plt.xlabel(\"False Positive Rate\")\n",
    "plt.ylabel(\"True Positive Rate\")\n",
    "plt.show()"
   ]
  },
  {
   "cell_type": "code",
   "execution_count": 57,
   "metadata": {},
   "outputs": [
    {
     "data": {
      "text/plain": [
       "<matplotlib.axes._subplots.AxesSubplot at 0x7f80ef5f6c10>"
      ]
     },
     "execution_count": 57,
     "metadata": {},
     "output_type": "execute_result"
    },
    {
     "data": {
      "image/png": "[encoded data removed]",
      "text/plain": [
       "<Figure size 432x288 with 2 Axes>"
      ]
     },
     "metadata": {
      "needs_background": "light"
     },
     "output_type": "display_data"
    }
   ],
   "source": [
    "decisions = (reg.predict_proba(X1_test) >= 0.25).astype(int)[:,1]\n",
    "data = confusion_matrix(y_test,decisions)\n",
    "sns.heatmap(data, cmap=\"Blues\", annot=True,fmt='g')"
   ]
  },
  {
   "cell_type": "markdown",
   "metadata": {},
   "source": [
    "Unfortunately we did not manage to make our predictions better, so normal xgboost turned out to be our the best predictor."
   ]
  },
  {
   "cell_type": "markdown",
   "metadata": {},
   "source": [
    "## Features importances"
   ]
  },
  {
   "cell_type": "code",
   "execution_count": 50,
   "metadata": {},
   "outputs": [
    {
     "data": {
      "text/plain": [
       "<matplotlib.axes._subplots.AxesSubplot at 0x7f42990d8810>"
      ]
     },
     "execution_count": 50,
     "metadata": {},
     "output_type": "execute_result"
    },
    {
     "data": {
      "image/png": "[encoded data removed]",
      "text/plain": [
       "<Figure size 432x288 with 1 Axes>"
      ]
     },
     "metadata": {
      "needs_background": "light"
     },
     "output_type": "display_data"
    }
   ],
   "source": [
    "\n",
    "params = {'colsample_bytree': 0.8, 'gamma': 1.5, 'max_depth': 5, 'min_child_weight': 1, 'subsample': 0.8,'n_estimators':1000}\n",
    "xg = xgb.XGBClassifier(objective='binary:logistic',nthread=4,n_jobs=4,params=params)\n",
    "xg.fit(X1_train,y_train)\n",
    "feat_importances = pd.Series(xg.feature_importances_, index=cols)\n",
    "feat_importances.nlargest(20).plot(kind='barh')"
   ]
  },
  {
   "cell_type": "markdown",
   "metadata": {},
   "source": [
    "Comparing feature importance scores with our conclusions from EDA, we can see that our predictions turned out to be true. Poutcome column which we assumed to have the biggest impact on predictions, indeed is the most important for our classfier. It makes for over 20% of our prediction which is huge considering the amount of columns that we have. It is also worth joting that contact column make for big part of our prediction, which come as a bit of a surprise, because during EDA we did not suppose, that it will have such a big impact. Fortunately we predicted that duration will have visible impact, but this is quite obvious that longer duration of a call may increase chances of positive outcome"
   ]
  }
 ],
 "metadata": {
  "kernelspec": {
   "display_name": "Python 3",
   "language": "python",
   "name": "python3"
  },
  "language_info": {
   "codemirror_mode": {
    "name": "ipython",
    "version": 3
   },
   "file_extension": ".py",
   "mimetype": "text/x-python",
   "name": "python",
   "nbconvert_exporter": "python",
   "pygments_lexer": "ipython3",
   "version": "3.7.6"
  }
 },
 "nbformat": 4,
 "nbformat_minor": 2
}

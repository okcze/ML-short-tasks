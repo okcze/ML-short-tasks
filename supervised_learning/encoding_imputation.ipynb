{
 "cells": [
  {
   "cell_type": "markdown",
   "metadata": {},
   "source": [
    "# Praca domowa nr 2\n",
    "## Piotr Fic"
   ]
  },
  {
   "cell_type": "code",
   "execution_count": 116,
   "metadata": {},
   "outputs": [],
   "source": [
    "#Pakiety\n",
    "import pandas as pd\n",
    "import numpy as np\n",
    "import sklearn\n",
    "import category_encoders\n",
    "from sklearn.preprocessing import OneHotEncoder\n",
    "from sklearn.preprocessing import LabelEncoder\n",
    "from sklearn.impute import KNNImputer\n",
    "from sklearn.metrics import mean_squared_error\n",
    "import matplotlib.pyplot as plt\n",
    "np.random.seed(123)"
   ]
  },
  {
   "cell_type": "markdown",
   "metadata": {},
   "source": [
    "### Wczytanie zbioru danych"
   ]
  },
  {
   "cell_type": "code",
   "execution_count": 24,
   "metadata": {},
   "outputs": [],
   "source": [
    "df = pd.read_csv(\"allegro-api-transactions.csv\")"
   ]
  },
  {
   "cell_type": "markdown",
   "metadata": {},
   "source": [
    "### Krótkie obejrzenie zbioru"
   ]
  },
  {
   "cell_type": "code",
   "execution_count": 25,
   "metadata": {},
   "outputs": [
    {
     "data": {
      "text/html": [
       "<div>\n",
       "<style scoped>\n",
       "    .dataframe tbody tr th:only-of-type {\n",
       "        vertical-align: middle;\n",
       "    }\n",
       "\n",
       "    .dataframe tbody tr th {\n",
       "        vertical-align: top;\n",
       "    }\n",
       "\n",
       "    .dataframe thead th {\n",
       "        text-align: right;\n",
       "    }\n",
       "</style>\n",
       "<table border=\"1\" class=\"dataframe\">\n",
       "  <thead>\n",
       "    <tr style=\"text-align: right;\">\n",
       "      <th></th>\n",
       "      <th>lp</th>\n",
       "      <th>date</th>\n",
       "      <th>item_id</th>\n",
       "      <th>categories</th>\n",
       "      <th>pay_option_on_delivery</th>\n",
       "      <th>pay_option_transfer</th>\n",
       "      <th>seller</th>\n",
       "      <th>price</th>\n",
       "      <th>it_is_allegro_standard</th>\n",
       "      <th>it_quantity</th>\n",
       "      <th>it_is_brand_zone</th>\n",
       "      <th>it_seller_rating</th>\n",
       "      <th>it_location</th>\n",
       "      <th>main_category</th>\n",
       "    </tr>\n",
       "  </thead>\n",
       "  <tbody>\n",
       "    <tr>\n",
       "      <th>0</th>\n",
       "      <td>0</td>\n",
       "      <td>2016-04-03 21:21:08</td>\n",
       "      <td>4753602474</td>\n",
       "      <td>['Komputery', 'Dyski i napędy', 'Nośniki', 'No...</td>\n",
       "      <td>1</td>\n",
       "      <td>1</td>\n",
       "      <td>radzioch666</td>\n",
       "      <td>59.99</td>\n",
       "      <td>1</td>\n",
       "      <td>997</td>\n",
       "      <td>0</td>\n",
       "      <td>50177</td>\n",
       "      <td>Warszawa</td>\n",
       "      <td>Komputery</td>\n",
       "    </tr>\n",
       "    <tr>\n",
       "      <th>1</th>\n",
       "      <td>1</td>\n",
       "      <td>2016-04-03 15:35:26</td>\n",
       "      <td>4773181874</td>\n",
       "      <td>['Odzież, Obuwie, Dodatki', 'Bielizna damska',...</td>\n",
       "      <td>1</td>\n",
       "      <td>1</td>\n",
       "      <td>InwestycjeNET</td>\n",
       "      <td>4.90</td>\n",
       "      <td>1</td>\n",
       "      <td>9288</td>\n",
       "      <td>0</td>\n",
       "      <td>12428</td>\n",
       "      <td>Warszawa</td>\n",
       "      <td>Odzież, Obuwie, Dodatki</td>\n",
       "    </tr>\n",
       "    <tr>\n",
       "      <th>2</th>\n",
       "      <td>2</td>\n",
       "      <td>2016-04-03 14:14:31</td>\n",
       "      <td>4781627074</td>\n",
       "      <td>['Dom i Ogród', 'Budownictwo i Akcesoria', 'Śc...</td>\n",
       "      <td>1</td>\n",
       "      <td>1</td>\n",
       "      <td>otostyl_com</td>\n",
       "      <td>109.90</td>\n",
       "      <td>1</td>\n",
       "      <td>895</td>\n",
       "      <td>0</td>\n",
       "      <td>7389</td>\n",
       "      <td>Leszno</td>\n",
       "      <td>Dom i Ogród</td>\n",
       "    </tr>\n",
       "    <tr>\n",
       "      <th>3</th>\n",
       "      <td>3</td>\n",
       "      <td>2016-04-03 19:55:44</td>\n",
       "      <td>4783971474</td>\n",
       "      <td>['Książki i Komiksy', 'Poradniki i albumy', 'Z...</td>\n",
       "      <td>1</td>\n",
       "      <td>1</td>\n",
       "      <td>Matfel1</td>\n",
       "      <td>18.50</td>\n",
       "      <td>0</td>\n",
       "      <td>971</td>\n",
       "      <td>0</td>\n",
       "      <td>15006</td>\n",
       "      <td>Wola Krzysztoporska</td>\n",
       "      <td>Książki i Komiksy</td>\n",
       "    </tr>\n",
       "    <tr>\n",
       "      <th>4</th>\n",
       "      <td>4</td>\n",
       "      <td>2016-04-03 18:05:54</td>\n",
       "      <td>4787908274</td>\n",
       "      <td>['Odzież, Obuwie, Dodatki', 'Ślub i wesele', '...</td>\n",
       "      <td>1</td>\n",
       "      <td>1</td>\n",
       "      <td>PPHU_RICO</td>\n",
       "      <td>19.90</td>\n",
       "      <td>1</td>\n",
       "      <td>950</td>\n",
       "      <td>0</td>\n",
       "      <td>32975</td>\n",
       "      <td>BIAŁYSTOK</td>\n",
       "      <td>Odzież, Obuwie, Dodatki</td>\n",
       "    </tr>\n",
       "  </tbody>\n",
       "</table>\n",
       "</div>"
      ],
      "text/plain": [
       "   lp                 date     item_id  \\\n",
       "0   0  2016-04-03 21:21:08  4753602474   \n",
       "1   1  2016-04-03 15:35:26  4773181874   \n",
       "2   2  2016-04-03 14:14:31  4781627074   \n",
       "3   3  2016-04-03 19:55:44  4783971474   \n",
       "4   4  2016-04-03 18:05:54  4787908274   \n",
       "\n",
       "                                          categories  pay_option_on_delivery  \\\n",
       "0  ['Komputery', 'Dyski i napędy', 'Nośniki', 'No...                       1   \n",
       "1  ['Odzież, Obuwie, Dodatki', 'Bielizna damska',...                       1   \n",
       "2  ['Dom i Ogród', 'Budownictwo i Akcesoria', 'Śc...                       1   \n",
       "3  ['Książki i Komiksy', 'Poradniki i albumy', 'Z...                       1   \n",
       "4  ['Odzież, Obuwie, Dodatki', 'Ślub i wesele', '...                       1   \n",
       "\n",
       "   pay_option_transfer         seller   price  it_is_allegro_standard  \\\n",
       "0                    1    radzioch666   59.99                       1   \n",
       "1                    1  InwestycjeNET    4.90                       1   \n",
       "2                    1    otostyl_com  109.90                       1   \n",
       "3                    1        Matfel1   18.50                       0   \n",
       "4                    1      PPHU_RICO   19.90                       1   \n",
       "\n",
       "   it_quantity  it_is_brand_zone  it_seller_rating          it_location  \\\n",
       "0          997                 0             50177             Warszawa   \n",
       "1         9288                 0             12428             Warszawa   \n",
       "2          895                 0              7389               Leszno   \n",
       "3          971                 0             15006  Wola Krzysztoporska   \n",
       "4          950                 0             32975            BIAŁYSTOK   \n",
       "\n",
       "             main_category  \n",
       "0                Komputery  \n",
       "1  Odzież, Obuwie, Dodatki  \n",
       "2              Dom i Ogród  \n",
       "3        Książki i Komiksy  \n",
       "4  Odzież, Obuwie, Dodatki  "
      ]
     },
     "execution_count": 25,
     "metadata": {},
     "output_type": "execute_result"
    }
   ],
   "source": [
    "df.head(5)"
   ]
  },
  {
   "cell_type": "code",
   "execution_count": 26,
   "metadata": {},
   "outputs": [
    {
     "name": "stdout",
     "output_type": "stream",
     "text": [
      "<class 'pandas.core.frame.DataFrame'>\n",
      "RangeIndex: 420020 entries, 0 to 420019\n",
      "Data columns (total 14 columns):\n",
      "lp                        420020 non-null int64\n",
      "date                      420020 non-null object\n",
      "item_id                   420020 non-null int64\n",
      "categories                420020 non-null object\n",
      "pay_option_on_delivery    420020 non-null int64\n",
      "pay_option_transfer       420020 non-null int64\n",
      "seller                    420020 non-null object\n",
      "price                     420020 non-null float64\n",
      "it_is_allegro_standard    420020 non-null int64\n",
      "it_quantity               420020 non-null int64\n",
      "it_is_brand_zone          420020 non-null int64\n",
      "it_seller_rating          420020 non-null int64\n",
      "it_location               420020 non-null object\n",
      "main_category             420020 non-null object\n",
      "dtypes: float64(1), int64(8), object(5)\n",
      "memory usage: 44.9+ MB\n"
     ]
    }
   ],
   "source": [
    "df.info()"
   ]
  },
  {
   "cell_type": "markdown",
   "metadata": {},
   "source": [
    "## Część I: kodowanie zmiennych kategorycznych"
   ]
  },
  {
   "cell_type": "markdown",
   "metadata": {},
   "source": [
    "## Target encoding: it_location"
   ]
  },
  {
   "cell_type": "markdown",
   "metadata": {},
   "source": [
    "Zmienna 'it_location' jest typu string. Pojawia się problem wielkich i małych liter, które mogą spowodować powstanie niepotrzebnie wielu kategorii dla tej samej lokalizacji np. Warszawa!=warszawa. Z tego powodu zanim przystąpię do target encoding-u, transformuję stringi do małych liter. Nie pomoże to na błędy pisowni ale możemy liczyć, że takich jest niewiele bo użytkownikom powinno zależeć na poprowności adresu."
   ]
  },
  {
   "cell_type": "code",
   "execution_count": 27,
   "metadata": {},
   "outputs": [
    {
     "name": "stdout",
     "output_type": "stream",
     "text": [
      "Unikalna liczba lokalizacji (czyli kategorii):\n"
     ]
    },
    {
     "data": {
      "text/plain": [
       "7903"
      ]
     },
     "execution_count": 27,
     "metadata": {},
     "output_type": "execute_result"
    }
   ],
   "source": [
    "#Kopia df na potrzeby wykonania poleceń\n",
    "data = df.copy()\n",
    "\n",
    "#Transformacja stringów\n",
    "data['it_location'] = data['it_location'].str.lower()\n",
    "\n",
    "print(\"Unikalna liczba lokalizacji (czyli kategorii):\")\n",
    "data['it_location'].nunique()"
   ]
  },
  {
   "cell_type": "code",
   "execution_count": 28,
   "metadata": {},
   "outputs": [
    {
     "name": "stdout",
     "output_type": "stream",
     "text": [
      "Liczba kategorii o mniej niż 3 wystąpieniach:\n"
     ]
    },
    {
     "data": {
      "text/plain": [
       "3348"
      ]
     },
     "execution_count": 28,
     "metadata": {},
     "output_type": "execute_result"
    }
   ],
   "source": [
    "cat_occ = data['it_location'].value_counts()\n",
    "print(\"Liczba kategorii o mniej niż 3 wystąpieniach:\")\n",
    "cat_occ[cat_occ <= 2].count()"
   ]
  },
  {
   "cell_type": "markdown",
   "metadata": {},
   "source": [
    "Lokalizacja jako zmienna kategoryczna generuje wiele unikalnych wartości, dodatkowo około 40% kategorii ma mniej niż 3 wystąpienia. Wymusza to zastosowanie znacznego wygładzania aby encoding tych kategorii nie był zaburzony przez małą liczbę obserwacji. Powinno to zapobiec over-fittingowi."
   ]
  },
  {
   "cell_type": "code",
   "execution_count": 29,
   "metadata": {},
   "outputs": [
    {
     "data": {
      "text/html": [
       "<div>\n",
       "<style scoped>\n",
       "    .dataframe tbody tr th:only-of-type {\n",
       "        vertical-align: middle;\n",
       "    }\n",
       "\n",
       "    .dataframe tbody tr th {\n",
       "        vertical-align: top;\n",
       "    }\n",
       "\n",
       "    .dataframe thead th {\n",
       "        text-align: right;\n",
       "    }\n",
       "</style>\n",
       "<table border=\"1\" class=\"dataframe\">\n",
       "  <thead>\n",
       "    <tr style=\"text-align: right;\">\n",
       "      <th></th>\n",
       "      <th>it_location</th>\n",
       "    </tr>\n",
       "  </thead>\n",
       "  <tbody>\n",
       "    <tr>\n",
       "      <th>0</th>\n",
       "      <td>84.132898</td>\n",
       "    </tr>\n",
       "    <tr>\n",
       "      <th>1</th>\n",
       "      <td>84.132898</td>\n",
       "    </tr>\n",
       "    <tr>\n",
       "      <th>2</th>\n",
       "      <td>64.883187</td>\n",
       "    </tr>\n",
       "    <tr>\n",
       "      <th>3</th>\n",
       "      <td>35.433365</td>\n",
       "    </tr>\n",
       "    <tr>\n",
       "      <th>4</th>\n",
       "      <td>73.772916</td>\n",
       "    </tr>\n",
       "  </tbody>\n",
       "</table>\n",
       "</div>"
      ],
      "text/plain": [
       "   it_location\n",
       "0    84.132898\n",
       "1    84.132898\n",
       "2    64.883187\n",
       "3    35.433365\n",
       "4    73.772916"
      ]
     },
     "execution_count": 29,
     "metadata": {},
     "output_type": "execute_result"
    }
   ],
   "source": [
    "#Target encoding zmienna: 'it_location', target: 'price'\n",
    "#Parametr smoothing domyślny\n",
    "te = category_encoders.target_encoder.TargetEncoder()\n",
    "enc_te = te.fit_transform(data['it_location'], data['price'])\n",
    "enc_te.head()"
   ]
  },
  {
   "cell_type": "code",
   "execution_count": 30,
   "metadata": {},
   "outputs": [
    {
     "data": {
      "text/html": [
       "<div>\n",
       "<style scoped>\n",
       "    .dataframe tbody tr th:only-of-type {\n",
       "        vertical-align: middle;\n",
       "    }\n",
       "\n",
       "    .dataframe tbody tr th {\n",
       "        vertical-align: top;\n",
       "    }\n",
       "\n",
       "    .dataframe thead th {\n",
       "        text-align: right;\n",
       "    }\n",
       "</style>\n",
       "<table border=\"1\" class=\"dataframe\">\n",
       "  <thead>\n",
       "    <tr style=\"text-align: right;\">\n",
       "      <th></th>\n",
       "      <th>it_location</th>\n",
       "    </tr>\n",
       "  </thead>\n",
       "  <tbody>\n",
       "    <tr>\n",
       "      <th>0</th>\n",
       "      <td>84.132898</td>\n",
       "    </tr>\n",
       "    <tr>\n",
       "      <th>1</th>\n",
       "      <td>84.132898</td>\n",
       "    </tr>\n",
       "    <tr>\n",
       "      <th>2</th>\n",
       "      <td>64.883187</td>\n",
       "    </tr>\n",
       "    <tr>\n",
       "      <th>3</th>\n",
       "      <td>40.110974</td>\n",
       "    </tr>\n",
       "    <tr>\n",
       "      <th>4</th>\n",
       "      <td>73.772916</td>\n",
       "    </tr>\n",
       "  </tbody>\n",
       "</table>\n",
       "</div>"
      ],
      "text/plain": [
       "   it_location\n",
       "0    84.132898\n",
       "1    84.132898\n",
       "2    64.883187\n",
       "3    40.110974\n",
       "4    73.772916"
      ]
     },
     "execution_count": 30,
     "metadata": {},
     "output_type": "execute_result"
    }
   ],
   "source": [
    "#Target encoding zmienna: 'it_location', target: 'price'\n",
    "#Parametr smoothing=50\n",
    "te = category_encoders.target_encoder.TargetEncoder()\n",
    "te.set_params(smoothing=50)\n",
    "enc_te = te.fit_transform(data['it_location'], data['price'])\n",
    "enc_te.head()"
   ]
  },
  {
   "cell_type": "code",
   "execution_count": 31,
   "metadata": {},
   "outputs": [
    {
     "name": "stdout",
     "output_type": "stream",
     "text": [
      "27042\n",
      "1142\n",
      "104\n"
     ]
    }
   ],
   "source": [
    "print(cat_occ['warszawa'])\n",
    "print(cat_occ['leszno'])\n",
    "print(cat_occ['wola krzysztoporska'])"
   ]
  },
  {
   "cell_type": "markdown",
   "metadata": {},
   "source": [
    "Parametr smoothing\\\n",
    "Ustawienie wartości parametru na 50 spowodowało, że dla kategorii z dużą liczbą wystąpień takich jak 'warszawa' (indeksy: 0-1) i 'leszno' (indeks: 2) nadany encoding nie zmienił się względem domyślnej wartości parametru. Natomiast dla kategorii z małą liczbą wystąpień - w stosunku do rozmiaru zbioru - 'wola krzysztoporska' (indeks: 3) możemy zauważyć wygładzenie wartości encodingu. Optymalny dobór wartości parametru wymagał by szerszej analizy, lecz uzyskany efekt jest satysfakcjonujący."
   ]
  },
  {
   "cell_type": "markdown",
   "metadata": {},
   "source": [
    "Porównanie do one-hot encoding\\\n",
    "Zastosowanie metody one-hot w przypadku zmiennej 'it_location' spowodowało by utworzenie 7902 nowych kolumn co w praktyce nie ma szans powodzenia ze względu na ograniczenia pamięciowe i nie wydaje się zbyt racjonalne. Ponadto one-hot encoding rozprasza jedną cechę na wiele wymiarów co intuicyjnie obniża jej znaczenie, szczególnie względem zmiennych ciągłych gdzie wartości będą większe niż tylko binarne. Minusem metody target-encoding jest podatność na nierównomierny rozkład kategorii i over-fitting co wymusza stosowanie wygładzania."
   ]
  },
  {
   "cell_type": "markdown",
   "metadata": {},
   "source": [
    "## Encoding zmiennej 'main_category'"
   ]
  },
  {
   "cell_type": "code",
   "execution_count": 32,
   "metadata": {},
   "outputs": [
    {
     "name": "stdout",
     "output_type": "stream",
     "text": [
      "Dom i Ogród                            91042\n",
      "Odzież, Obuwie, Dodatki                54257\n",
      "Motoryzacja                            45941\n",
      "Dla Dzieci                             42107\n",
      "Uroda                                  28096\n",
      "Sport i Turystyka                      27532\n",
      "RTV i AGD                              20341\n",
      "Telefony i Akcesoria                   19805\n",
      "Komputery                              14491\n",
      "Zdrowie                                13166\n",
      "Książki i Komiksy                      11572\n",
      "Delikatesy                              8074\n",
      "Gry                                     7150\n",
      "Rękodzieło                              6574\n",
      "Kolekcje                                6146\n",
      "Przemysł                                5959\n",
      "Biżuteria i Zegarki                     5808\n",
      "Biuro i Reklama                         3194\n",
      "Fotografia                              2381\n",
      "Muzyka                                  1961\n",
      "Antyki i Sztuka                         1214\n",
      "Konsole i automaty                      1053\n",
      "Filmy                                   1005\n",
      "Instrumenty                              617\n",
      "Sprzęt estradowy, studyjny i DJ-ski      413\n",
      "Bilety                                   119\n",
      "Nieruchomości                              2\n",
      "Name: main_category, dtype: int64\n",
      "Liczba unikalnych kategorii: 27\n"
     ]
    }
   ],
   "source": [
    "#Kopia df na potrzeby wykonania poleceń\n",
    "data = df.copy()\n",
    "\n",
    "#Przegląd zmiennej\n",
    "print(data['main_category'].value_counts())\n",
    "\n",
    "print(\"Liczba unikalnych kategorii: \" + str(len(data['main_category'].unique())))"
   ]
  },
  {
   "cell_type": "markdown",
   "metadata": {},
   "source": [
    "Kolumna jest uporządkowana i bez przeszkód możemy przejść do implementacji encodingu."
   ]
  },
  {
   "cell_type": "markdown",
   "metadata": {},
   "source": [
    "### One-hot encoding"
   ]
  },
  {
   "cell_type": "code",
   "execution_count": 33,
   "metadata": {},
   "outputs": [
    {
     "name": "stdout",
     "output_type": "stream",
     "text": [
      "[[0. 0. 0. ... 0. 0. 0.]\n",
      " [0. 0. 0. ... 0. 0. 0.]\n",
      " [0. 0. 0. ... 0. 0. 0.]\n",
      " ...\n",
      " [0. 0. 0. ... 0. 0. 0.]\n",
      " [0. 0. 0. ... 0. 0. 0.]\n",
      " [0. 0. 0. ... 0. 0. 0.]]\n",
      "Liczba utworzonych kolumn: 27\n"
     ]
    }
   ],
   "source": [
    "onehot_en = OneHotEncoder(categories='auto')\n",
    "enc_onehot = onehot_en.fit_transform(data['main_category'].values.reshape(-1,1)).toarray()\n",
    "print(enc_onehot)\n",
    "print(\"Liczba utworzonych kolumn: \" + str(len(enc_onehot[1])))"
   ]
  },
  {
   "cell_type": "markdown",
   "metadata": {},
   "source": [
    "### Binary encoding"
   ]
  },
  {
   "cell_type": "markdown",
   "metadata": {},
   "source": [
    "Metoda polega na zakodowaniu informacji o kategorii w formie binarnej. Tworzona jest odpowiednia liczba kolumn aby móc zakodować wszystkie wartości. Dzięki temu nie przekazujemy dodatkowej wartości dla kategorii jak w kodowaniu int-ami w miejscu oraz tworzymy mniej kolumn niż w metodzie one-hot."
   ]
  },
  {
   "cell_type": "code",
   "execution_count": 34,
   "metadata": {},
   "outputs": [
    {
     "name": "stdout",
     "output_type": "stream",
     "text": [
      "        0_0  0_1  0_2  0_3  0_4  0_5\n",
      "0         0    0    0    0    0    1\n",
      "1         0    0    0    0    1    0\n",
      "2         0    0    0    0    1    1\n",
      "3         0    0    0    1    0    0\n",
      "4         0    0    0    0    1    0\n",
      "...     ...  ...  ...  ...  ...  ...\n",
      "420015    0    0    0    1    1    0\n",
      "420016    0    0    1    0    0    1\n",
      "420017    0    0    0    0    1    0\n",
      "420018    0    0    1    0    0    0\n",
      "420019    0    0    0    1    1    1\n",
      "\n",
      "[420020 rows x 6 columns]\n",
      "Liczba utworzonych kolumn: 6\n"
     ]
    }
   ],
   "source": [
    "binary_en = category_encoders.BinaryEncoder()\n",
    "enc_binary = binary_en.fit_transform(data['main_category'].values.reshape(-1,1))\n",
    "print(enc_binary)\n",
    "print(\"Liczba utworzonych kolumn: \" + str(len(enc_binary.iloc[1])))"
   ]
  },
  {
   "cell_type": "markdown",
   "metadata": {},
   "source": [
    "### James-Stein encoder"
   ]
  },
  {
   "cell_type": "markdown",
   "metadata": {},
   "source": [
    "Metoda oparta na wyliczaniu średniej ze zmiennej target dla danej kategorii oraz całej całości obserwacji . Podobna do klasycznego target-encoding, lecz tak skonstruowana aby średnie dla kategorii przesuwać w kierunku średniej ogółu. Potencjalnie ciekawa metoda, gdyż odpowiedni dobór parametru rozmywania średnich pozwala osiągnąć optymalny rezultat między\\\n",
    "under- a over-fittingiem."
   ]
  },
  {
   "cell_type": "code",
   "execution_count": 35,
   "metadata": {},
   "outputs": [
    {
     "data": {
      "text/html": [
       "<div>\n",
       "<style scoped>\n",
       "    .dataframe tbody tr th:only-of-type {\n",
       "        vertical-align: middle;\n",
       "    }\n",
       "\n",
       "    .dataframe tbody tr th {\n",
       "        vertical-align: top;\n",
       "    }\n",
       "\n",
       "    .dataframe thead th {\n",
       "        text-align: right;\n",
       "    }\n",
       "</style>\n",
       "<table border=\"1\" class=\"dataframe\">\n",
       "  <thead>\n",
       "    <tr style=\"text-align: right;\">\n",
       "      <th></th>\n",
       "      <th>main_category</th>\n",
       "    </tr>\n",
       "  </thead>\n",
       "  <tbody>\n",
       "    <tr>\n",
       "      <th>0</th>\n",
       "      <td>101.735793</td>\n",
       "    </tr>\n",
       "    <tr>\n",
       "      <th>1</th>\n",
       "      <td>75.894257</td>\n",
       "    </tr>\n",
       "    <tr>\n",
       "      <th>2</th>\n",
       "      <td>73.179117</td>\n",
       "    </tr>\n",
       "    <tr>\n",
       "      <th>3</th>\n",
       "      <td>25.346202</td>\n",
       "    </tr>\n",
       "    <tr>\n",
       "      <th>4</th>\n",
       "      <td>75.894257</td>\n",
       "    </tr>\n",
       "  </tbody>\n",
       "</table>\n",
       "</div>"
      ],
      "text/plain": [
       "   main_category\n",
       "0     101.735793\n",
       "1      75.894257\n",
       "2      73.179117\n",
       "3      25.346202\n",
       "4      75.894257"
      ]
     },
     "execution_count": 35,
     "metadata": {},
     "output_type": "execute_result"
    }
   ],
   "source": [
    "js_en = category_encoders.JamesSteinEncoder()\n",
    "enc_js = js_en.fit_transform(data['main_category'], data['price'])\n",
    "enc_js.head()"
   ]
  },
  {
   "cell_type": "markdown",
   "metadata": {},
   "source": [
    "Dodatkowo z ciekawości porównam James-Stein i target-encoding dla kolumny 'it_location'."
   ]
  },
  {
   "cell_type": "code",
   "execution_count": 36,
   "metadata": {},
   "outputs": [
    {
     "name": "stdout",
     "output_type": "stream",
     "text": [
      "James-Stein: \n",
      "   it_location\n",
      "0    79.048949\n",
      "1    79.048949\n",
      "2    66.758534\n",
      "3    36.283149\n",
      "4    74.299479\n",
      "Target-encoding (smooth=50): \n",
      "   it_location\n",
      "0    84.132898\n",
      "1    84.132898\n",
      "2    64.883187\n",
      "3    40.110974\n",
      "4    73.772916\n"
     ]
    }
   ],
   "source": [
    "data = df.copy()\n",
    "data['it_location'] = data['it_location'].str.lower()\n",
    "\n",
    "js_en_loc = category_encoders.JamesSteinEncoder()\n",
    "enc_js_loc = js_en_loc.fit_transform(data['it_location'], data['price'])\n",
    "print(\"James-Stein: \")\n",
    "print(enc_js_loc.head())\n",
    "print(\"Target-encoding (smooth=50): \")\n",
    "print(enc_te.head())"
   ]
  },
  {
   "cell_type": "markdown",
   "metadata": {},
   "source": [
    "# Część II: braki danych"
   ]
  },
  {
   "cell_type": "code",
   "execution_count": 124,
   "metadata": {},
   "outputs": [
    {
     "name": "stdout",
     "output_type": "stream",
     "text": [
      "Pozostała liczba rekordów:\n",
      "42002\n"
     ]
    }
   ],
   "source": [
    "#Wybór kolumn\n",
    "num_data = df[['price', 'it_seller_rating', 'it_quantity']]\n",
    "\n",
    "#Redukcja rozmiaru do 10% rekordów\n",
    "num_data = num_data.drop(num_data.sample(frac=.9).index)\n",
    "print(\"Pozostała liczba rekordów:\")\n",
    "print(len(num_data))"
   ]
  },
  {
   "cell_type": "markdown",
   "metadata": {},
   "source": [
    "## Imputacja braków"
   ]
  },
  {
   "cell_type": "markdown",
   "metadata": {},
   "source": [
    "Postanowiłem zmierzyć wyniki imputacji metodą najbliższych sąsiadów. Dokładność imputacji zmierzę miarą RMSE powtarzając 10 krotnie doświadczenie dla obu przygotowanych zbiorów. Parametr liczby sąsiadów ustalę według popularnej konwencji sqrt(n), gdzie n - liczba obserwacji."
   ]
  },
  {
   "cell_type": "code",
   "execution_count": 133,
   "metadata": {},
   "outputs": [],
   "source": [
    "def input_measure(df):\n",
    "    knn_imp = KNNImputer(n_neighbors=200)\n",
    "    result = pd.DataFrame(knn_imp.fit_transform(df))\n",
    "    err1 = mean_squared_error(num_data['it_seller_rating'], result[1], squared=False)\n",
    "    err2 = mean_squared_error(num_data['it_quantity'], result[2], squared=False)\n",
    "    return(err1, err2)"
   ]
  },
  {
   "cell_type": "code",
   "execution_count": 134,
   "metadata": {},
   "outputs": [],
   "source": [
    "#df na wyniki\n",
    "case1 = pd.DataFrame(columns = [\"seller_rating\"])\n",
    "case2 = pd.DataFrame(columns = [\"seller_rating\", \"quantity\"])\n",
    "\n",
    "#przeprowadzenie prób\n",
    "for i in range(10):\n",
    "    #Przygotowanie zbioru z brakami nr 1\n",
    "    mis1 = num_data.copy()\n",
    "    rand_id_1 = mis1.sample(round(0.1*len(mis1))).index\n",
    "    mis1.loc[rand_id_1, 'it_seller_rating'] = None\n",
    "\n",
    "    #Przygotowanie zbioru z brakami nr 2\n",
    "    mis2 = mis1.copy()\n",
    "    rand_id_2 = mis2.sample(round(0.1*len(mis2))).index\n",
    "    mis2.loc[rand_id_2, 'it_quantity'] = None\n",
    "    \n",
    "    r1_1, r1_2 = input_measure(mis1)\n",
    "    r2_1, r2_2 = input_measure(mis2)\n",
    "    \n",
    "    case1.loc[i] = [r1_1]\n",
    "    case2.loc[i] = [r2_1, r2_2]"
   ]
  },
  {
   "cell_type": "markdown",
   "metadata": {},
   "source": [
    "### Dane statystyczne na temat oryginalnych wartości"
   ]
  },
  {
   "cell_type": "code",
   "execution_count": 144,
   "metadata": {},
   "outputs": [
    {
     "data": {
      "text/html": [
       "<div>\n",
       "<style scoped>\n",
       "    .dataframe tbody tr th:only-of-type {\n",
       "        vertical-align: middle;\n",
       "    }\n",
       "\n",
       "    .dataframe tbody tr th {\n",
       "        vertical-align: top;\n",
       "    }\n",
       "\n",
       "    .dataframe thead th {\n",
       "        text-align: right;\n",
       "    }\n",
       "</style>\n",
       "<table border=\"1\" class=\"dataframe\">\n",
       "  <thead>\n",
       "    <tr style=\"text-align: right;\">\n",
       "      <th></th>\n",
       "      <th>it_seller_rating</th>\n",
       "      <th>it_quantity</th>\n",
       "    </tr>\n",
       "  </thead>\n",
       "  <tbody>\n",
       "    <tr>\n",
       "      <th>count</th>\n",
       "      <td>42002.000000</td>\n",
       "      <td>42002.000000</td>\n",
       "    </tr>\n",
       "    <tr>\n",
       "      <th>mean</th>\n",
       "      <td>20548.132018</td>\n",
       "      <td>6622.775939</td>\n",
       "    </tr>\n",
       "    <tr>\n",
       "      <th>std</th>\n",
       "      <td>36639.021482</td>\n",
       "      <td>23156.936292</td>\n",
       "    </tr>\n",
       "    <tr>\n",
       "      <th>min</th>\n",
       "      <td>0.000000</td>\n",
       "      <td>0.000000</td>\n",
       "    </tr>\n",
       "    <tr>\n",
       "      <th>25%</th>\n",
       "      <td>1581.000000</td>\n",
       "      <td>6.000000</td>\n",
       "    </tr>\n",
       "    <tr>\n",
       "      <th>50%</th>\n",
       "      <td>6799.000000</td>\n",
       "      <td>95.000000</td>\n",
       "    </tr>\n",
       "    <tr>\n",
       "      <th>75%</th>\n",
       "      <td>21577.500000</td>\n",
       "      <td>927.000000</td>\n",
       "    </tr>\n",
       "    <tr>\n",
       "      <th>max</th>\n",
       "      <td>292069.000000</td>\n",
       "      <td>99999.000000</td>\n",
       "    </tr>\n",
       "  </tbody>\n",
       "</table>\n",
       "</div>"
      ],
      "text/plain": [
       "       it_seller_rating   it_quantity\n",
       "count      42002.000000  42002.000000\n",
       "mean       20548.132018   6622.775939\n",
       "std        36639.021482  23156.936292\n",
       "min            0.000000      0.000000\n",
       "25%         1581.000000      6.000000\n",
       "50%         6799.000000     95.000000\n",
       "75%        21577.500000    927.000000\n",
       "max       292069.000000  99999.000000"
      ]
     },
     "execution_count": 144,
     "metadata": {},
     "output_type": "execute_result"
    }
   ],
   "source": [
    "pd.DataFrame(num_data[['it_seller_rating', 'it_quantity']]).describe()"
   ]
  },
  {
   "cell_type": "code",
   "execution_count": 150,
   "metadata": {},
   "outputs": [
    {
     "data": {
      "text/plain": [
       "<matplotlib.axes._subplots.AxesSubplot at 0x7f1a4921cd50>"
      ]
     },
     "execution_count": 150,
     "metadata": {},
     "output_type": "execute_result"
    },
    {
     "data": {
      "image/png": "[encoded data removed]",
      "text/plain": [
       "<Figure size 432x288 with 1 Axes>"
      ]
     },
     "metadata": {
      "needs_background": "light"
     },
     "output_type": "display_data"
    }
   ],
   "source": [
    "pd.DataFrame(num_data[['it_seller_rating', 'it_quantity']]).boxplot()"
   ]
  },
  {
   "cell_type": "code",
   "execution_count": 255,
   "metadata": {},
   "outputs": [
    {
     "data": {
      "text/plain": [
       "array([[<matplotlib.axes._subplots.AxesSubplot object at 0x7f1a3c910190>,\n",
       "        <matplotlib.axes._subplots.AxesSubplot object at 0x7f1a3c8e6850>]],\n",
       "      dtype=object)"
      ]
     },
     "execution_count": 255,
     "metadata": {},
     "output_type": "execute_result"
    },
    {
     "data": {
      "image/png": "[encoded data removed]",
      "text/plain": [
       "<Figure size 432x288 with 2 Axes>"
      ]
     },
     "metadata": {
      "needs_background": "light"
     },
     "output_type": "display_data"
    }
   ],
   "source": [
    "pd.DataFrame(num_data[['it_seller_rating', 'it_quantity']]).hist()"
   ]
  },
  {
   "cell_type": "markdown",
   "metadata": {},
   "source": [
    "### Wyniki: braki w kolumnie 'it_seller_rating'\n",
    "Średnia wartość RMSE wyniosła około 11367 co dla zmiennej o zakresie wartości 0-292069 oraz dużym odchyleniu standardowym jest stosunkowo dobrym wynikiem. Odchylenie standardowe RMSE wyniosło około 269."
   ]
  },
  {
   "cell_type": "code",
   "execution_count": 139,
   "metadata": {},
   "outputs": [
    {
     "data": {
      "text/html": [
       "<div>\n",
       "<style scoped>\n",
       "    .dataframe tbody tr th:only-of-type {\n",
       "        vertical-align: middle;\n",
       "    }\n",
       "\n",
       "    .dataframe tbody tr th {\n",
       "        vertical-align: top;\n",
       "    }\n",
       "\n",
       "    .dataframe thead th {\n",
       "        text-align: right;\n",
       "    }\n",
       "</style>\n",
       "<table border=\"1\" class=\"dataframe\">\n",
       "  <thead>\n",
       "    <tr style=\"text-align: right;\">\n",
       "      <th></th>\n",
       "      <th>seller_rating</th>\n",
       "    </tr>\n",
       "  </thead>\n",
       "  <tbody>\n",
       "    <tr>\n",
       "      <th>count</th>\n",
       "      <td>10.000000</td>\n",
       "    </tr>\n",
       "    <tr>\n",
       "      <th>mean</th>\n",
       "      <td>11366.898164</td>\n",
       "    </tr>\n",
       "    <tr>\n",
       "      <th>std</th>\n",
       "      <td>268.828492</td>\n",
       "    </tr>\n",
       "    <tr>\n",
       "      <th>min</th>\n",
       "      <td>11018.355410</td>\n",
       "    </tr>\n",
       "    <tr>\n",
       "      <th>25%</th>\n",
       "      <td>11167.687359</td>\n",
       "    </tr>\n",
       "    <tr>\n",
       "      <th>50%</th>\n",
       "      <td>11297.175354</td>\n",
       "    </tr>\n",
       "    <tr>\n",
       "      <th>75%</th>\n",
       "      <td>11563.609509</td>\n",
       "    </tr>\n",
       "    <tr>\n",
       "      <th>max</th>\n",
       "      <td>11795.518512</td>\n",
       "    </tr>\n",
       "  </tbody>\n",
       "</table>\n",
       "</div>"
      ],
      "text/plain": [
       "       seller_rating\n",
       "count      10.000000\n",
       "mean    11366.898164\n",
       "std       268.828492\n",
       "min     11018.355410\n",
       "25%     11167.687359\n",
       "50%     11297.175354\n",
       "75%     11563.609509\n",
       "max     11795.518512"
      ]
     },
     "execution_count": 139,
     "metadata": {},
     "output_type": "execute_result"
    }
   ],
   "source": [
    "case1.describe()"
   ]
  },
  {
   "cell_type": "code",
   "execution_count": 251,
   "metadata": {},
   "outputs": [
    {
     "data": {
      "text/plain": [
       "Text(0, 0.5, 'wartość RMSE')"
      ]
     },
     "execution_count": 251,
     "metadata": {},
     "output_type": "execute_result"
    },
    {
     "data": {
      "image/png": "[encoded data removed]",
      "text/plain": [
       "<Figure size 432x288 with 1 Axes>"
      ]
     },
     "metadata": {
      "needs_background": "light"
     },
     "output_type": "display_data"
    }
   ],
   "source": [
    "case1.plot(title=\"RMSE dla 10 prób\")\n",
    "plt.xlabel(\"nr próby\")\n",
    "plt.ylabel(\"wartość RMSE\")"
   ]
  },
  {
   "cell_type": "markdown",
   "metadata": {},
   "source": [
    "### Wyniki: braki w kolumnach 'it_seller_rating' oraz 'it_quantity'\n",
    "Jakość imputacji dla kolumny 'it_seller_rating' nieznacznie się pogorszyła, lecz wciąż jest zadowalająca.\\\n",
    "Trudniejsza w ocenie jest imputacja dla kolumny 'it_quantity'. Zmienna charakteryzuje się dużym rozproszeniem wartości. RMSE imputacji w tej kolumnie wyniosło średnio około 7316. Jest to więcej niż średnia oryginalnych wartości tej kolumny. Z drugiej strony RMSE wynosi około 1/3 odchylenia standardowego tej zmiennej co wskazuje, że imputacja poradziła sobie przyzwoicie z jej rozproszeniem. "
   ]
  },
  {
   "cell_type": "code",
   "execution_count": 141,
   "metadata": {},
   "outputs": [
    {
     "data": {
      "text/html": [
       "<div>\n",
       "<style scoped>\n",
       "    .dataframe tbody tr th:only-of-type {\n",
       "        vertical-align: middle;\n",
       "    }\n",
       "\n",
       "    .dataframe tbody tr th {\n",
       "        vertical-align: top;\n",
       "    }\n",
       "\n",
       "    .dataframe thead th {\n",
       "        text-align: right;\n",
       "    }\n",
       "</style>\n",
       "<table border=\"1\" class=\"dataframe\">\n",
       "  <thead>\n",
       "    <tr style=\"text-align: right;\">\n",
       "      <th></th>\n",
       "      <th>seller_rating</th>\n",
       "      <th>quantity</th>\n",
       "    </tr>\n",
       "  </thead>\n",
       "  <tbody>\n",
       "    <tr>\n",
       "      <th>count</th>\n",
       "      <td>10.000000</td>\n",
       "      <td>10.000000</td>\n",
       "    </tr>\n",
       "    <tr>\n",
       "      <th>mean</th>\n",
       "      <td>11483.067572</td>\n",
       "      <td>7316.220259</td>\n",
       "    </tr>\n",
       "    <tr>\n",
       "      <th>std</th>\n",
       "      <td>272.277292</td>\n",
       "      <td>183.821139</td>\n",
       "    </tr>\n",
       "    <tr>\n",
       "      <th>min</th>\n",
       "      <td>11114.368101</td>\n",
       "      <td>7080.131998</td>\n",
       "    </tr>\n",
       "    <tr>\n",
       "      <th>25%</th>\n",
       "      <td>11291.094511</td>\n",
       "      <td>7191.335564</td>\n",
       "    </tr>\n",
       "    <tr>\n",
       "      <th>50%</th>\n",
       "      <td>11458.954988</td>\n",
       "      <td>7257.414017</td>\n",
       "    </tr>\n",
       "    <tr>\n",
       "      <th>75%</th>\n",
       "      <td>11670.619455</td>\n",
       "      <td>7484.752576</td>\n",
       "    </tr>\n",
       "    <tr>\n",
       "      <th>max</th>\n",
       "      <td>11920.774276</td>\n",
       "      <td>7573.462096</td>\n",
       "    </tr>\n",
       "  </tbody>\n",
       "</table>\n",
       "</div>"
      ],
      "text/plain": [
       "       seller_rating     quantity\n",
       "count      10.000000    10.000000\n",
       "mean    11483.067572  7316.220259\n",
       "std       272.277292   183.821139\n",
       "min     11114.368101  7080.131998\n",
       "25%     11291.094511  7191.335564\n",
       "50%     11458.954988  7257.414017\n",
       "75%     11670.619455  7484.752576\n",
       "max     11920.774276  7573.462096"
      ]
     },
     "execution_count": 141,
     "metadata": {},
     "output_type": "execute_result"
    }
   ],
   "source": [
    "case2.describe()"
   ]
  },
  {
   "cell_type": "code",
   "execution_count": 252,
   "metadata": {},
   "outputs": [
    {
     "data": {
      "text/plain": [
       "Text(0, 0.5, 'wartość RMSE')"
      ]
     },
     "execution_count": 252,
     "metadata": {},
     "output_type": "execute_result"
    },
    {
     "data": {
      "image/png": "[encoded data removed]",
      "text/plain": [
       "<Figure size 432x288 with 1 Axes>"
      ]
     },
     "metadata": {
      "needs_background": "light"
     },
     "output_type": "display_data"
    }
   ],
   "source": [
    "case2.plot(title=\"RMSE dla 10 prób\")\n",
    "plt.xlabel(\"nr próby\")\n",
    "plt.ylabel(\"wartość RMSE\")"
   ]
  },
  {
   "cell_type": "markdown",
   "metadata": {},
   "source": [
    "### Wizualizacja imputacji dla przykładowych 100 braków obserwacji 'it_seller_rating'"
   ]
  },
  {
   "cell_type": "code",
   "execution_count": 254,
   "metadata": {},
   "outputs": [
    {
     "data": {
      "text/plain": [
       "<matplotlib.axes._subplots.AxesSubplot at 0x7f1a3c82a6d0>"
      ]
     },
     "execution_count": 254,
     "metadata": {},
     "output_type": "execute_result"
    },
    {
     "data": {
      "image/png": "[encoded data removed]",
      "text/plain": [
       "<Figure size 432x288 with 1 Axes>"
      ]
     },
     "metadata": {
      "needs_background": "light"
     },
     "output_type": "display_data"
    }
   ],
   "source": [
    "knn_imp = KNNImputer(n_neighbors=200)\n",
    "result = pd.DataFrame(knn_imp.fit_transform(mis1))\n",
    "x = np.array(num_data['it_seller_rating'])\n",
    "y = np.array(result[1].astype(int))\n",
    "b = pd.DataFrame({'orginal': x, 'imputation': y, 'błąd_bezwzględny': abs(x-y)})\n",
    "z = b.loc[b['błąd_bezwzględny']!=0]\n",
    "z.iloc[0:100, 0:2].plot()"
   ]
  },
  {
   "cell_type": "markdown",
   "metadata": {},
   "source": [
    "# Podsumowanie\n",
    "Metoda najbliższych sąsiadów osiągnęła dobre wyniki imputacji braków danych według miary RMSE. Warto zauważyć, że zmienne z brakami były mocno rozproszone o niesymetrycznym rozkładzie. Pomimo tego jakość imputacji była wysoka i stabilna względem losowo generowanych próbek braków."
   ]
  }
 ],
 "metadata": {
  "kernelspec": {
   "display_name": "Python 3",
   "language": "python",
   "name": "python3"
  },
  "language_info": {
   "codemirror_mode": {
    "name": "ipython",
    "version": 3
   },
   "file_extension": ".py",
   "mimetype": "text/x-python",
   "name": "python",
   "nbconvert_exporter": "python",
   "pygments_lexer": "ipython3",
   "version": "3.7.4"
  }
 },
 "nbformat": 4,
 "nbformat_minor": 2
}

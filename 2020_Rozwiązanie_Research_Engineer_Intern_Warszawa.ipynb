{
 "cells": [
  {
   "cell_type": "markdown",
   "metadata": {},
   "source": [
    "Twoim zadaniem jest wytrenowanie klasyfikatora binarnego na podzbiorze zbioru MNIST, w którym wyróżniamy klasy (cyfry 0 i 1 mają zostać wyłączone ze zbioru):\n",
    " - Liczby pierwsze (2,3,5,7)\n",
    " - Liczby złożone (4,6,8,9)\n",
    "\n",
    "Napisz wydajną implementację modelu **regresji logistycznej** trenowanego algorytmem ***SGD z momentum***. Cały proces trenowania musisz napisać samodzielnie, w języku Python, korzystając z biblioteki numpy. Na potrzeby zadania niedozwolone jest korzystanie z gotowych implementacji optimizerów i modeli oraz bibliotek do automatycznego różniczkowania funkcji (np. Tensorflow, pytorch, autograd). \n",
    "\n",
    "Dobierz hiperparametry tak, aby uzyskać jak najlepszy wynik na zbiorze walidacyjnym. \n",
    "Wyciągnij i zapisz wnioski z przeprowadzonych eksperymentów.\n",
    "\n",
    "Zbiór MNIST dostępny jest pod linkami: \n",
    "\n",
    "(zbiór treningowy):\n",
    " - http://yann.lecun.com/exdb/mnist/train-images-idx3-ubyte.gz\n",
    " - http://yann.lecun.com/exdb/mnist/train-labels-idx1-ubyte.gz\n",
    "\n",
    "(zbiór walidacyjny):\n",
    " - http://yann.lecun.com/exdb/mnist/t10k-images-idx3-ubyte.gz\n",
    " - http://yann.lecun.com/exdb/mnist/t10k-labels-idx1-ubyte.gz\n",
    "\n"
   ]
  },
  {
   "cell_type": "code",
   "execution_count": 3,
   "metadata": {},
   "outputs": [],
   "source": [
    "import numpy as np"
   ]
  },
  {
   "cell_type": "markdown",
   "metadata": {},
   "source": [
    "## Implementation of logistic regression model"
   ]
  },
  {
   "cell_type": "code",
   "execution_count": 4,
   "metadata": {},
   "outputs": [],
   "source": [
    "def sigmoid(t: np.ndarray, x: np.ndarray):\n",
    "    \"\"\"\n",
    "    Sigmoid (logistic) function:\n",
    "    calculates hypothesis value from given arrays of \n",
    "    coefficients thetas (t) and single observation (x)\n",
    "    \"\"\"\n",
    "    dot_product = np.dot(t.T, x)\n",
    "    \n",
    "    #Avoid calculating e^(large numbers). In this case value of \n",
    "    #sigmoid function can be approximated to 0.\n",
    "    if dot_product < -10:\n",
    "        return(0)\n",
    "    else:\n",
    "        return(1/(1+np.exp(-dot_product)))"
   ]
  },
  {
   "cell_type": "code",
   "execution_count": 5,
   "metadata": {},
   "outputs": [],
   "source": [
    "def sgd(t: np.ndarray, X: np.ndarray, y: np.ndarray, \n",
    "        a, b, maxit, step, l):\n",
    "    \"\"\"\n",
    "    Stochastic gradient descent with momentum and L@ regularization\n",
    "    input:\n",
    "        - t: parameters theta (start vector)\n",
    "        - X: features set\n",
    "        - y: labels vector\n",
    "    parameters:\n",
    "        - defined in Model class\n",
    "    output:\n",
    "        - vector of thetas which optimized cost function\n",
    "    \"\"\"\n",
    "    \n",
    "    #Number of features (theta params)\n",
    "    num_feat = t.size\n",
    "    #Number of observations\n",
    "    num_obs = len(X)\n",
    "    \n",
    "    #Initialize past time step with 0 value\n",
    "    v_prev = 0\n",
    "    \n",
    "    k=0\n",
    "    flag=True\n",
    "    while(flag):\n",
    "        \n",
    "        for row_id in range(0,num_obs,step):\n",
    "            \n",
    "            #Computing gradient\n",
    "            gradient = (sigmoid(t, X[row_id])-y[row_id])*X[row_id]\n",
    "            #Computing step\n",
    "            v = b*v_prev + a*gradient\n",
    "            #Actualizing thetas\n",
    "            t = t - v + (a*l/num_obs)*t\n",
    "            \n",
    "            v_prev = v\n",
    "            k+=1\n",
    "            if(k>maxit):\n",
    "                flag = False\n",
    "                break\n",
    "    \n",
    "    return(t)"
   ]
  },
  {
   "cell_type": "code",
   "execution_count": 27,
   "metadata": {},
   "outputs": [],
   "source": [
    "class Model:\n",
    "    \"\"\"\n",
    "    Logistic regression with SGD-momentum solver\n",
    "    Parameters:\n",
    "        - a: learning parameter\n",
    "        - b: momentum parameter\n",
    "        - maxit: maximum number of iterations\n",
    "        - step: step while iterating over observations when calculating gradients\n",
    "        - l: L2 regularization strength \n",
    "    \"\"\"\n",
    "    #Theta parameters\n",
    "    t = None\n",
    "    \n",
    "    def __init__(self, a=1, b=0.9, maxit=10000, l=0, step=1):\n",
    "        self.a = a\n",
    "        self.b = b\n",
    "        self.maxit = maxit\n",
    "        self.l = l\n",
    "        self.step = step\n",
    "    \n",
    "    \n",
    "    def fit(self, X: np.ndarray, y: np.ndarray) -> None:\n",
    "        \"\"\"Trains model on given train set X and labels y\"\"\"\n",
    "        \n",
    "        #Initialize thetas to zeros vector\n",
    "        t_start = np.zeros(len(X[0]))\n",
    "        \n",
    "        #Run optimalization algorithm and assign output to t\n",
    "        self.t = sgd(t_start, X, y, self.a, self.b, self.maxit, self.step, self.l)\n",
    "        \n",
    "\n",
    "    def predict(self, X: np.ndarray) -> np.ndarray:\n",
    "        \"\"\"Computes class prediction on given dataset\"\"\"\n",
    "        \n",
    "        probability = np.array([sigmoid(self.t, Xi) for Xi in X])\n",
    "        pred = np.where(probability>=0.5, 1, 0)\n",
    "        return(pred)\n",
    "\n",
    "    \n",
    "    @staticmethod\n",
    "    def evaluate(y_true: np.ndarray, y_pred: np.ndarray) -> float:\n",
    "        # calculate accuracy\n",
    "        return(y_true == y_pred).mean()"
   ]
  },
  {
   "cell_type": "markdown",
   "metadata": {},
   "source": [
    "## Loading datasets"
   ]
  },
  {
   "cell_type": "code",
   "execution_count": 23,
   "metadata": {},
   "outputs": [],
   "source": [
    "def loadMNIST( prefix ):\n",
    "    \"\"\"Loads MNIST dataset and its labels from files\"\"\"\n",
    "    \n",
    "    intType = np.dtype('int32').newbyteorder('>')\n",
    "    nMetaDataBytes = 4 * intType.itemsize\n",
    "    \n",
    "    data = np.fromfile(\"./\" + prefix + '-images-idx3-ubyte', dtype = 'ubyte')\n",
    "    magicBytes, nImages, width, height = np.frombuffer(data[:nMetaDataBytes].tobytes(), intType)\n",
    "    data = data[nMetaDataBytes:].astype(dtype = 'float32').reshape([ nImages, width, height ])\n",
    "    data = data.reshape((data.shape[0], -1), order='F')\n",
    "    \n",
    "    labels = np.fromfile(\"./\" + prefix + '-labels-idx1-ubyte',dtype = 'ubyte')[2 * intType.itemsize:]\n",
    "    \n",
    "    return data, labels"
   ]
  },
  {
   "cell_type": "code",
   "execution_count": 24,
   "metadata": {},
   "outputs": [],
   "source": [
    "X_train, y_train = loadMNIST(\"train\")\n",
    "X_test, y_test = loadMNIST(\"t10k\")\n",
    "\n",
    "#Mapping orginal classes to binary as defined in task description\n",
    "y_train = np.isin(y_train, [2,3,5,7])*1\n",
    "y_test = np.isin(y_test, [2,3,5,7])*1"
   ]
  },
  {
   "cell_type": "markdown",
   "metadata": {},
   "source": [
    "## Short EDA\n",
    "For this porpouse I will use pandas and matplotlib packages."
   ]
  },
  {
   "cell_type": "code",
   "execution_count": 12,
   "metadata": {},
   "outputs": [],
   "source": [
    "import pandas as pd\n",
    "import matplotlib.pyplot as plt"
   ]
  },
  {
   "cell_type": "code",
   "execution_count": 19,
   "metadata": {},
   "outputs": [],
   "source": [
    "temp_X = pd.DataFrame(X_train)\n",
    "temp_y = pd.Series(y_train)"
   ]
  },
  {
   "cell_type": "markdown",
   "metadata": {},
   "source": [
    "### Balance of target variable:\n",
    "Target classes are equal enough to assume that dataset is balanced,\n",
    "hence accuracy is right metric, techniques for imbalanced data are not needed."
   ]
  },
  {
   "cell_type": "code",
   "execution_count": 20,
   "metadata": {},
   "outputs": [
    {
     "data": {
      "text/plain": [
       "0    36225\n",
       "1    23775\n",
       "dtype: int64"
      ]
     },
     "execution_count": 20,
     "metadata": {},
     "output_type": "execute_result"
    }
   ],
   "source": [
    "temp_y.value_counts()"
   ]
  },
  {
   "cell_type": "markdown",
   "metadata": {},
   "source": [
    "### Values distribution\n",
    "Pixels values are extremely imbalanced. Most pixels' values are equal to 0 and the second significant group is set of values close to maximum (251-255). Because of that it is worth to consider if transforming images to black-and-white or normalization will improve results.  "
   ]
  },
  {
   "cell_type": "code",
   "execution_count": 21,
   "metadata": {},
   "outputs": [
    {
     "data": {
      "text/plain": [
       "count    47040000.000000\n",
       "mean           33.495377\n",
       "std            73.746880\n",
       "min             0.000000\n",
       "25%             0.000000\n",
       "50%             0.000000\n",
       "75%             0.000000\n",
       "max           255.000000\n",
       "dtype: object"
      ]
     },
     "execution_count": 21,
     "metadata": {},
     "output_type": "execute_result"
    }
   ],
   "source": [
    "pixels_val = pd.DataFrame(temp_X.stack().value_counts())\n",
    "temp_X.stack().describe().apply(lambda x: format(x, 'f'))"
   ]
  },
  {
   "cell_type": "code",
   "execution_count": 22,
   "metadata": {},
   "outputs": [
    {
     "data": {
      "image/png": "[encoded data removed]",
      "text/plain": [
       "<Figure size 432x288 with 1 Axes>"
      ]
     },
     "metadata": {
      "needs_background": "light"
     },
     "output_type": "display_data"
    }
   ],
   "source": [
    "f = plt.figure()\n",
    "plt.title(\"Pixels values histogram\")\n",
    "plt.bar(pixels_val.index, pixels_val[0])\n",
    "plt.show()"
   ]
  },
  {
   "cell_type": "markdown",
   "metadata": {},
   "source": [
    "### Constant pixels\n",
    "Pixels (features) where all values are equal among all observations. Removing them from dataset seems to be reasonable."
   ]
  },
  {
   "cell_type": "code",
   "execution_count": 23,
   "metadata": {},
   "outputs": [
    {
     "name": "stdout",
     "output_type": "stream",
     "text": [
      "Number of pixels with constant values\n"
     ]
    },
    {
     "data": {
      "text/plain": [
       "67"
      ]
     },
     "execution_count": 23,
     "metadata": {},
     "output_type": "execute_result"
    }
   ],
   "source": [
    "print(\"Number of pixels with constant values\")\n",
    "len(temp_X.std()[(temp_X.std() == 0)].index)"
   ]
  },
  {
   "cell_type": "markdown",
   "metadata": {},
   "source": [
    "## Preprocessing and features engineering\n",
    "Basing on above brief EDA I will prepear dataset modified with feature engineering. In final model scoring I will compare results between this and orginal dataset."
   ]
  },
  {
   "cell_type": "code",
   "execution_count": 25,
   "metadata": {},
   "outputs": [],
   "source": [
    "#1. Removing constant pixels\n",
    "def remove_constant_cols(train, test):\n",
    "    #Constant in train set\n",
    "    constant = np.all(train[1:] == train[:-1], axis=0)\n",
    "    #Remove same columns from train and test sets\n",
    "    train = train[:, ~constant]\n",
    "    test = test[:, ~constant]\n",
    "    return(train, test)\n",
    "\n",
    "X_train_fe, X_test_fe = remove_constant_cols(X_train, X_test)"
   ]
  },
  {
   "cell_type": "code",
   "execution_count": 26,
   "metadata": {},
   "outputs": [],
   "source": [
    "#2. Normalization\n",
    "X_train_fe = X_train/255\n",
    "X_test_fe = X_test/255"
   ]
  },
  {
   "cell_type": "markdown",
   "metadata": {},
   "source": [
    "# Model evaluation\n",
    "1. To find best hyperparameters I will use cross-validation method on training set.\n",
    "2. Best models will be scored on test set.\n",
    "3. Best results on orginal and modified dataset will be compared."
   ]
  },
  {
   "cell_type": "code",
   "execution_count": 8,
   "metadata": {},
   "outputs": [],
   "source": [
    "def param_tune_cv(model, k, params, X, y):\n",
    "    \"\"\"\n",
    "    Hyperparameters tuning with grid search c-v method\n",
    "    Parameters:\n",
    "        - params: matrix of parameters values to test\n",
    "        - k: number of folds\n",
    "    Output:\n",
    "        - matrix of results: [mean(acc), std(acc), params]\n",
    "    \"\"\"\n",
    "    a_set = params[0]\n",
    "    b_set = params[1]\n",
    "    maxit_set = params[2]\n",
    "    l_set = params[3]\n",
    "    step_set = params[4]\n",
    "    \n",
    "    #Creating cartesian product of parameters' values\n",
    "    params_set = [(a, b, maxit, l, step) for a in a_set \n",
    "                  for b in b_set \n",
    "                  for maxit in maxit_set \n",
    "                  for l in l_set\n",
    "                  for step in step_set]\n",
    "    \n",
    "    total = str(len(params_set))\n",
    "    \n",
    "    #Shuffling data in given X set and target, with the same permutation\n",
    "    id = np.random.permutation(len(X))\n",
    "    X = [X[i] for i in id]\n",
    "    y = [y[i] for i in id]\n",
    "        \n",
    "    num = int(np.floor(len(X)/k))\n",
    "    \n",
    "    #Creating lists of trainig and validation sets\n",
    "    validate_sets = [None]*k\n",
    "    train_sets = [None]*k\n",
    "    train_y = [None]*k\n",
    "    validate_y = [None]*k\n",
    "    \n",
    "    \n",
    "    for j in range(k-1):\n",
    "        X_validate = X[j*num : (j+1)*num]\n",
    "        X_train = np.delete(X, range(j*num, (j+1)*num), 0)\n",
    "        \n",
    "        y_validate = y[j*num : (j+1)*num]\n",
    "        y_train = np.delete(y, range(j*num, (j+1)*num))\n",
    "        \n",
    "        validate_sets[j] = X_validate\n",
    "        train_sets[j] = X_train\n",
    "        validate_y[j] = y_validate\n",
    "        train_y[j] = y_train\n",
    "    \n",
    "    validate_sets[k-1] = X[(k-1)*num:]\n",
    "    train_sets[k-1] = np.delete(X, range((k-1)*num, len(X)-1), 0)\n",
    "    validate_y[k-1] = y[(k-1)*num:]\n",
    "    train_y[k-1] = np.delete(y, range((k-1)*num, len(X)-1))\n",
    "    \n",
    "    #Now with ready k train and validetion sets computing mean and std of accuracy \n",
    "    #depends on different parameter values\n",
    "    results = []\n",
    "    \n",
    "    cur = 0\n",
    "    for i in params_set:\n",
    "        \n",
    "        acc = [None]*k\n",
    "        \n",
    "        for j in range(k):\n",
    "            \n",
    "            #Training model\n",
    "            log_reg = Model(a=i[0],b=i[1],maxit=i[2],l=i[3],step=i[4])\n",
    "            log_reg.fit(train_sets[j], train_y[j])\n",
    "            #Prediction and score on current validation set\n",
    "            pred = log_reg.predict(validate_sets[j])\n",
    "            score = log_reg.evaluate(validate_y[j], pred)\n",
    "            acc[j] = score\n",
    "            \n",
    "        r = [np.mean(acc), np.std(acc)]\n",
    "        r.extend(i)\n",
    "        results.append(r)\n",
    "        cur+=1\n",
    "        print(\"Done: \" + str(cur) + \" /\" + total)\n",
    "                \n",
    "    return(results)"
   ]
  },
  {
   "cell_type": "code",
   "execution_count": 32,
   "metadata": {},
   "outputs": [],
   "source": [
    "#Number of observations in single c-v train set\n",
    "k = 5\n",
    "num = (k-1)*len(X_train)/k\n",
    "\n",
    "#Parameters for grid search c-v\n",
    "par = [[0.01, 0.1, 0.9, 1, 1.1],\n",
    "      [0.01, 0.1, 0.9, 1, 1.1],\n",
    "      [0.1*num, 0.5*num, num, 2*num],\n",
    "      [0.001, 0.01, 0.1, 1, 10],\n",
    "      [1]]"
   ]
  },
  {
   "cell_type": "code",
   "execution_count": null,
   "metadata": {},
   "outputs": [],
   "source": [
    "#Cross_validation for orginal dataset\n",
    "result_org = param_tune_cv(Model(), 5, par, X_train, y_train)"
   ]
  },
  {
   "cell_type": "code",
   "execution_count": null,
   "metadata": {},
   "outputs": [],
   "source": [
    "#Cross_validation for dataset after feature engineering\n",
    "result_fe = param_tune_cv(Model(), 5, par, X_train_fe, y_train)"
   ]
  },
  {
   "cell_type": "code",
   "execution_count": 73,
   "metadata": {},
   "outputs": [],
   "source": [
    "#Saving results for further work\n",
    "np.savetxt(\"orginal.csv\", result_orginal, fmt= '%.3e')"
   ]
  },
  {
   "cell_type": "code",
   "execution_count": 74,
   "metadata": {},
   "outputs": [],
   "source": [
    "np.savetxt(\"fe.csv\", result_fe, fmt= '%.3e')"
   ]
  },
  {
   "cell_type": "markdown",
   "metadata": {},
   "source": [
    "## Cross-validation results"
   ]
  },
  {
   "cell_type": "code",
   "execution_count": 13,
   "metadata": {},
   "outputs": [],
   "source": [
    "result_org = pd.read_csv(\"orginal.csv\", header=None, sep=\" \")\n",
    "result_fe = pd.read_csv(\"fe.csv\", header=None, sep=\" \")\n",
    "result_org.columns = [\"mean_acc\",\"std_acc\",\"a\",\"b\",\"maxit\",\"l\",\"step\"]\n",
    "result_fe.columns = [\"mean_acc\",\"std_acc\",\"a\",\"b\",\"maxit\",\"l\",\"step\"]"
   ]
  },
  {
   "cell_type": "code",
   "execution_count": 14,
   "metadata": {},
   "outputs": [],
   "source": [
    "result_org = result_org.sort_values(\"mean_acc\", ascending=False).reset_index(drop=True)\n",
    "result_fe = result_fe.sort_values(\"mean_acc\", ascending=False).reset_index(drop=True)"
   ]
  },
  {
   "cell_type": "markdown",
   "metadata": {},
   "source": [
    "### Best 5 scores: orginal data"
   ]
  },
  {
   "cell_type": "code",
   "execution_count": 15,
   "metadata": {},
   "outputs": [
    {
     "data": {
      "text/html": [
       "<div>\n",
       "<style scoped>\n",
       "    .dataframe tbody tr th:only-of-type {\n",
       "        vertical-align: middle;\n",
       "    }\n",
       "\n",
       "    .dataframe tbody tr th {\n",
       "        vertical-align: top;\n",
       "    }\n",
       "\n",
       "    .dataframe thead th {\n",
       "        text-align: right;\n",
       "    }\n",
       "</style>\n",
       "<table border=\"1\" class=\"dataframe\">\n",
       "  <thead>\n",
       "    <tr style=\"text-align: right;\">\n",
       "      <th></th>\n",
       "      <th>mean_acc</th>\n",
       "      <th>std_acc</th>\n",
       "      <th>a</th>\n",
       "      <th>b</th>\n",
       "      <th>maxit</th>\n",
       "      <th>l</th>\n",
       "      <th>step</th>\n",
       "    </tr>\n",
       "  </thead>\n",
       "  <tbody>\n",
       "    <tr>\n",
       "      <th>0</th>\n",
       "      <td>0.8855</td>\n",
       "      <td>0.001812</td>\n",
       "      <td>1.1</td>\n",
       "      <td>0.90</td>\n",
       "      <td>96000.0</td>\n",
       "      <td>10.0</td>\n",
       "      <td>1.0</td>\n",
       "    </tr>\n",
       "    <tr>\n",
       "      <th>1</th>\n",
       "      <td>0.8854</td>\n",
       "      <td>0.001866</td>\n",
       "      <td>1.1</td>\n",
       "      <td>0.90</td>\n",
       "      <td>48000.0</td>\n",
       "      <td>10.0</td>\n",
       "      <td>1.0</td>\n",
       "    </tr>\n",
       "    <tr>\n",
       "      <th>2</th>\n",
       "      <td>0.8854</td>\n",
       "      <td>0.003248</td>\n",
       "      <td>1.1</td>\n",
       "      <td>0.01</td>\n",
       "      <td>24000.0</td>\n",
       "      <td>10.0</td>\n",
       "      <td>1.0</td>\n",
       "    </tr>\n",
       "    <tr>\n",
       "      <th>3</th>\n",
       "      <td>0.8852</td>\n",
       "      <td>0.003280</td>\n",
       "      <td>0.9</td>\n",
       "      <td>0.01</td>\n",
       "      <td>24000.0</td>\n",
       "      <td>10.0</td>\n",
       "      <td>1.0</td>\n",
       "    </tr>\n",
       "    <tr>\n",
       "      <th>4</th>\n",
       "      <td>0.8849</td>\n",
       "      <td>0.003870</td>\n",
       "      <td>1.1</td>\n",
       "      <td>0.10</td>\n",
       "      <td>24000.0</td>\n",
       "      <td>10.0</td>\n",
       "      <td>1.0</td>\n",
       "    </tr>\n",
       "  </tbody>\n",
       "</table>\n",
       "</div>"
      ],
      "text/plain": [
       "   mean_acc   std_acc    a     b    maxit     l  step\n",
       "0    0.8855  0.001812  1.1  0.90  96000.0  10.0   1.0\n",
       "1    0.8854  0.001866  1.1  0.90  48000.0  10.0   1.0\n",
       "2    0.8854  0.003248  1.1  0.01  24000.0  10.0   1.0\n",
       "3    0.8852  0.003280  0.9  0.01  24000.0  10.0   1.0\n",
       "4    0.8849  0.003870  1.1  0.10  24000.0  10.0   1.0"
      ]
     },
     "execution_count": 15,
     "metadata": {},
     "output_type": "execute_result"
    }
   ],
   "source": [
    "result_org.head(5)"
   ]
  },
  {
   "cell_type": "markdown",
   "metadata": {},
   "source": [
    "### Best 5 scores: data after features engineering"
   ]
  },
  {
   "cell_type": "code",
   "execution_count": 16,
   "metadata": {},
   "outputs": [
    {
     "data": {
      "text/html": [
       "<div>\n",
       "<style scoped>\n",
       "    .dataframe tbody tr th:only-of-type {\n",
       "        vertical-align: middle;\n",
       "    }\n",
       "\n",
       "    .dataframe tbody tr th {\n",
       "        vertical-align: top;\n",
       "    }\n",
       "\n",
       "    .dataframe thead th {\n",
       "        text-align: right;\n",
       "    }\n",
       "</style>\n",
       "<table border=\"1\" class=\"dataframe\">\n",
       "  <thead>\n",
       "    <tr style=\"text-align: right;\">\n",
       "      <th></th>\n",
       "      <th>mean_acc</th>\n",
       "      <th>std_acc</th>\n",
       "      <th>a</th>\n",
       "      <th>b</th>\n",
       "      <th>maxit</th>\n",
       "      <th>l</th>\n",
       "      <th>step</th>\n",
       "    </tr>\n",
       "  </thead>\n",
       "  <tbody>\n",
       "    <tr>\n",
       "      <th>0</th>\n",
       "      <td>0.8948</td>\n",
       "      <td>0.002138</td>\n",
       "      <td>0.01</td>\n",
       "      <td>0.01</td>\n",
       "      <td>96000.0</td>\n",
       "      <td>10.00</td>\n",
       "      <td>1.0</td>\n",
       "    </tr>\n",
       "    <tr>\n",
       "      <th>1</th>\n",
       "      <td>0.8946</td>\n",
       "      <td>0.002180</td>\n",
       "      <td>0.01</td>\n",
       "      <td>0.10</td>\n",
       "      <td>96000.0</td>\n",
       "      <td>10.00</td>\n",
       "      <td>1.0</td>\n",
       "    </tr>\n",
       "    <tr>\n",
       "      <th>2</th>\n",
       "      <td>0.8944</td>\n",
       "      <td>0.001991</td>\n",
       "      <td>0.01</td>\n",
       "      <td>0.01</td>\n",
       "      <td>96000.0</td>\n",
       "      <td>1.00</td>\n",
       "      <td>1.0</td>\n",
       "    </tr>\n",
       "    <tr>\n",
       "      <th>3</th>\n",
       "      <td>0.8943</td>\n",
       "      <td>0.001994</td>\n",
       "      <td>0.01</td>\n",
       "      <td>0.01</td>\n",
       "      <td>96000.0</td>\n",
       "      <td>0.10</td>\n",
       "      <td>1.0</td>\n",
       "    </tr>\n",
       "    <tr>\n",
       "      <th>4</th>\n",
       "      <td>0.8943</td>\n",
       "      <td>0.001994</td>\n",
       "      <td>0.01</td>\n",
       "      <td>0.01</td>\n",
       "      <td>96000.0</td>\n",
       "      <td>0.01</td>\n",
       "      <td>1.0</td>\n",
       "    </tr>\n",
       "  </tbody>\n",
       "</table>\n",
       "</div>"
      ],
      "text/plain": [
       "   mean_acc   std_acc     a     b    maxit      l  step\n",
       "0    0.8948  0.002138  0.01  0.01  96000.0  10.00   1.0\n",
       "1    0.8946  0.002180  0.01  0.10  96000.0  10.00   1.0\n",
       "2    0.8944  0.001991  0.01  0.01  96000.0   1.00   1.0\n",
       "3    0.8943  0.001994  0.01  0.01  96000.0   0.10   1.0\n",
       "4    0.8943  0.001994  0.01  0.01  96000.0   0.01   1.0"
      ]
     },
     "execution_count": 16,
     "metadata": {},
     "output_type": "execute_result"
    }
   ],
   "source": [
    "result_fe.head(5)"
   ]
  },
  {
   "cell_type": "markdown",
   "metadata": {},
   "source": [
    "From c-v results I choose sets of parameters which refer to the best averages of accuracy. Both of them have acceptably low standard deviation."
   ]
  },
  {
   "cell_type": "markdown",
   "metadata": {},
   "source": [
    "# Performance on test sets\n",
    "Best models for two data approaches will be scored on test sets."
   ]
  },
  {
   "cell_type": "markdown",
   "metadata": {},
   "source": [
    "### Best model for orginal data"
   ]
  },
  {
   "cell_type": "code",
   "execution_count": 17,
   "metadata": {},
   "outputs": [],
   "source": [
    "par_org = result_org.iloc[0][2:]"
   ]
  },
  {
   "cell_type": "code",
   "execution_count": 18,
   "metadata": {},
   "outputs": [
    {
     "data": {
      "text/plain": [
       "a            1.1\n",
       "b            0.9\n",
       "maxit    96000.0\n",
       "l           10.0\n",
       "step         1.0\n",
       "Name: 0, dtype: float64"
      ]
     },
     "execution_count": 18,
     "metadata": {},
     "output_type": "execute_result"
    }
   ],
   "source": [
    "par_org"
   ]
  },
  {
   "cell_type": "code",
   "execution_count": 19,
   "metadata": {},
   "outputs": [],
   "source": [
    "model_org = Model(a=par_org[0], b=par_org[1], maxit=par_org[2], l=par_org[3], step=1)"
   ]
  },
  {
   "cell_type": "markdown",
   "metadata": {},
   "source": [
    "### Best model for data after features engineering"
   ]
  },
  {
   "cell_type": "code",
   "execution_count": 20,
   "metadata": {},
   "outputs": [],
   "source": [
    "par_fe = result_fe.iloc[0][2:]"
   ]
  },
  {
   "cell_type": "code",
   "execution_count": 73,
   "metadata": {},
   "outputs": [
    {
     "data": {
      "text/plain": [
       "a            0.01\n",
       "b            0.01\n",
       "maxit    96000.00\n",
       "l           10.00\n",
       "step         1.00\n",
       "Name: 0, dtype: float64"
      ]
     },
     "execution_count": 73,
     "metadata": {},
     "output_type": "execute_result"
    }
   ],
   "source": [
    "par_fe"
   ]
  },
  {
   "cell_type": "code",
   "execution_count": 21,
   "metadata": {},
   "outputs": [],
   "source": [
    "model_fe = Model(a=par_fe[0], b=par_fe[1], maxit=par_fe[2], l=par_fe[3], step=1)"
   ]
  },
  {
   "cell_type": "markdown",
   "metadata": {},
   "source": [
    "### Final scoring"
   ]
  },
  {
   "cell_type": "code",
   "execution_count": 28,
   "metadata": {},
   "outputs": [],
   "source": [
    "#Trainig best models\n",
    "model_org.fit(X_train, y_train)\n",
    "model_fe.fit(X_train_fe, y_train)"
   ]
  },
  {
   "cell_type": "code",
   "execution_count": 29,
   "metadata": {},
   "outputs": [],
   "source": [
    "#Calculating predictions for test sets\n",
    "pred_org = model_org.predict(X_test)\n",
    "pred_fe = model_fe.predict(X_test_fe)"
   ]
  },
  {
   "cell_type": "code",
   "execution_count": 30,
   "metadata": {},
   "outputs": [],
   "source": [
    "#Computing accuracy of prediction\n",
    "acc_org = model_org.evaluate(pred_org, y_test)\n",
    "acc_fe = model_fe.evaluate(pred_fe, y_test)"
   ]
  },
  {
   "cell_type": "markdown",
   "metadata": {},
   "source": [
    "### Accuracy of best model for orginal data:"
   ]
  },
  {
   "cell_type": "code",
   "execution_count": 31,
   "metadata": {},
   "outputs": [
    {
     "name": "stdout",
     "output_type": "stream",
     "text": [
      "0.8925\n"
     ]
    }
   ],
   "source": [
    "print(acc_org)"
   ]
  },
  {
   "cell_type": "markdown",
   "metadata": {},
   "source": [
    "### Accuracy of best model for data after features engineering:"
   ]
  },
  {
   "cell_type": "code",
   "execution_count": 32,
   "metadata": {},
   "outputs": [
    {
     "name": "stdout",
     "output_type": "stream",
     "text": [
      "0.8927\n"
     ]
    }
   ],
   "source": [
    "print(acc_fe)"
   ]
  },
  {
   "cell_type": "markdown",
   "metadata": {},
   "source": [
    "## Summary"
   ]
  },
  {
   "cell_type": "markdown",
   "metadata": {},
   "source": [
    "Value of accuracy metric for both approaches was about 89%.\\\n",
    "This result is quite good and seems to be stable comparing cross-validation and test set scores.\\\n",
    "I managed to get even higher value of accuracy up to about 91%. However result was unstable. Cross-validation method helped to find much more reliable models which perform well on unseen data.\\\n",
    "Features engineering did not help to achive significantly higher scores on test set. On the other hand, equal results mean that reduction of dimensions (features) is possible for this dataset. This conclusion might be useful for building more complex and computationally expensive models."
   ]
  }
 ],
 "metadata": {
  "kernelspec": {
   "display_name": "Python 3",
   "language": "python",
   "name": "python3"
  },
  "language_info": {
   "codemirror_mode": {
    "name": "ipython",
    "version": 3
   },
   "file_extension": ".py",
   "mimetype": "text/x-python",
   "name": "python",
   "nbconvert_exporter": "python",
   "pygments_lexer": "ipython3",
   "version": "3.7.4"
  }
 },
 "nbformat": 4,
 "nbformat_minor": 2
}
